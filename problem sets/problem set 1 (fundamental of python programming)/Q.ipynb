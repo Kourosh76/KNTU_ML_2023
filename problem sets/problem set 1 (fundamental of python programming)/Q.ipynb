{
 "cells": [
  {
   "cell_type": "markdown",
   "metadata": {},
   "source": [
    "# Special Topics I Problem Set 1 (Fundamental of Python Programming)"
   ]
  },
  {
   "cell_type": "markdown",
   "metadata": {},
   "source": [
    "## Q1: Smallest Multiple"
   ]
  },
  {
   "cell_type": "markdown",
   "metadata": {},
   "source": [
    "Take two numbers named $p$ and $d$ from the user at the input of your program, and then find the smallest multiple of $d$, whose remainder when divided by $p$ is between $0$ and $\\frac{p}{2}$ (inclusive $\\frac{p}{2}$), and print it."
   ]
  },
  {
   "cell_type": "code",
   "execution_count": null,
   "metadata": {},
   "outputs": [],
   "source": [
    "# Do it."
   ]
  },
  {
   "cell_type": "markdown",
   "metadata": {},
   "source": [
    "## Q2: ‌Base 2"
   ]
  },
  {
   "cell_type": "markdown",
   "metadata": {},
   "source": [
    "Write a program that takes the number $n$ as input and prints the sum of digits of number $n$ in base two in the output."
   ]
  },
  {
   "cell_type": "code",
   "execution_count": null,
   "metadata": {},
   "outputs": [],
   "source": [
    "# Do it."
   ]
  },
  {
   "cell_type": "markdown",
   "metadata": {},
   "source": [
    "## Q3: Area"
   ]
  },
  {
   "cell_type": "markdown",
   "metadata": {},
   "source": [
    "Write a program that takes the radius of the circle in the figure below and shows the area of the highlighted part to $4$ decimal places.\n",
    "\n",
    "![](Figure.png \"Figure of Q3\")"
   ]
  },
  {
   "cell_type": "code",
   "execution_count": null,
   "metadata": {},
   "outputs": [],
   "source": [
    "# Do it."
   ]
  },
  {
   "cell_type": "markdown",
   "metadata": {},
   "source": [
    "## Q4: Code"
   ]
  },
  {
   "cell_type": "markdown",
   "metadata": {},
   "source": [
    "A safe has $k$ wheels, on each of which there is a sequence of numbers from $1$ to $9$, under each wheel there is a sign that refers to one of the numbers on the wheel and this number changes when the wheel is turned. Now, considering a $k$-digit number as the code, what is the minimum number of rotations of the wheel so that the displayed numbers are equal to the code number?"
   ]
  },
  {
   "cell_type": "code",
   "execution_count": null,
   "metadata": {},
   "outputs": [],
   "source": [
    "# Do it."
   ]
  },
  {
   "cell_type": "markdown",
   "metadata": {},
   "source": [
    "## Q5: Factorial of the Prime Numbers"
   ]
  },
  {
   "cell_type": "markdown",
   "metadata": {},
   "source": [
    "Write a function called `factorial_of_prime_numbers` that takes a number of numbers from the user as input and returns the prime numbers given to the function along with the factorial of those numbers as a dictionary.\n",
    "\n",
    "### Example 1\n",
    "**In:** `factorial_of_prime_numbers(3, 6, 8, 5)`\n",
    "\n",
    "**Out:** `{3: 6, 5: 120}`\n",
    "\n",
    "### Example 2\n",
    "**In:** `factorial_of_prime_numbers(5, 7)`\n",
    "\n",
    "**Out:** `{5: 120, 7: 5040}`"
   ]
  },
  {
   "cell_type": "code",
   "execution_count": null,
   "metadata": {},
   "outputs": [],
   "source": [
    "def factorial_of_prime_numbers():\n",
    "    # Do it.\n",
    "    return result"
   ]
  },
  {
   "cell_type": "markdown",
   "metadata": {},
   "source": [
    "Good luck 😉"
   ]
  }
 ],
 "metadata": {
  "kernelspec": {
   "display_name": "Python 3",
   "language": "python",
   "name": "python3"
  },
  "language_info": {
   "codemirror_mode": {
    "name": "ipython",
    "version": 3
   },
   "file_extension": ".py",
   "mimetype": "text/x-python",
   "name": "python",
   "nbconvert_exporter": "python",
   "pygments_lexer": "ipython3",
   "version": "3.11.3"
  }
 },
 "nbformat": 4,
 "nbformat_minor": 2
}
