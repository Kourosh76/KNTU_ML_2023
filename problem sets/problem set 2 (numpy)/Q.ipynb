{
 "cells": [
  {
   "cell_type": "markdown",
   "metadata": {},
   "source": [
    "# Special Topics I Problem Set 2 (NumPy)"
   ]
  },
  {
   "cell_type": "markdown",
   "metadata": {},
   "source": [
    "## Q1\n",
    "\n",
    "Take two integer numbers from the user and create a $3 \\times 3 \\times 3$ array with random integer values between these numbers."
   ]
  },
  {
   "cell_type": "code",
   "execution_count": 1,
   "metadata": {},
   "outputs": [
    {
     "name": "stdout",
     "output_type": "stream",
     "text": [
      "n1 = 3\n",
      "n2 = 10\n",
      "output: \n",
      " [[[ 6  3  7]\n",
      "  [ 4 10  4]\n",
      "  [ 6  3  7]]\n",
      "\n",
      " [[ 9  9  5]\n",
      "  [ 7  4  7]\n",
      "  [ 9  5  5]]\n",
      "\n",
      " [[ 6  9  6]\n",
      "  [ 5 10  6]\n",
      "  [10  7  7]]]\n"
     ]
    }
   ],
   "source": [
    "# import numpy package\n",
    "import numpy as np\n",
    "\n",
    "# getting the 1st number from the user\n",
    "n1 = int(input(\"Please enter the 1st number: \"))\n",
    "# getting the 2nd number from the user\n",
    "n2 = int(input(\"Please enter the 2nd number: \"))\n",
    "\n",
    "# make the desired array\n",
    "desired_array = np.random.randint(\n",
    "    low=np.min([n1, n2]), high=np.max([n1, n2]) + 1, size=(3, 3, 3)\n",
    ")\n",
    "\n",
    "# print number n1\n",
    "print(\"n1 =\", n1)\n",
    "# print number n2\n",
    "print(\"n2 =\", n2)\n",
    "# print answer\n",
    "print(\"output: \\n\", desired_array)"
   ]
  },
  {
   "cell_type": "markdown",
   "metadata": {},
   "source": [
    "## Q2\n",
    "\n",
    "Generate a 2D array whose elements have a Gaussian distribution."
   ]
  },
  {
   "cell_type": "code",
   "execution_count": 2,
   "metadata": {},
   "outputs": [
    {
     "name": "stdout",
     "output_type": "stream",
     "text": [
      "gaussian filter of 5 x 5 : \n",
      " [[0.05854983 0.0851895  0.09653235 0.0851895  0.05854983]\n",
      " [0.0851895  0.12394999 0.14045374 0.12394999 0.0851895 ]\n",
      " [0.09653235 0.14045374 0.15915494 0.14045374 0.09653235]\n",
      " [0.0851895  0.12394999 0.14045374 0.12394999 0.0851895 ]\n",
      " [0.05854983 0.0851895  0.09653235 0.0851895  0.05854983]]\n"
     ]
    }
   ],
   "source": [
    "# import numpy package\n",
    "import numpy as np\n",
    "\n",
    "\n",
    "# sigma(standard deviation) and mu(mean) are the parameters of gaussian\n",
    "def gaussian_filter(kernel_size, sigma=1, mu=0):\n",
    "    # initializing value of x, y as grid of kernel size in the range of kernel size\n",
    "    x, y = np.meshgrid(np.linspace(-1, 1, kernel_size), np.linspace(-1, 1, kernel_size))\n",
    "    dst = np.sqrt(x**2 + y**2)\n",
    "\n",
    "    # lower normal part of gaussian\n",
    "    normal = 1 / (2 * np.pi * sigma**2)\n",
    "\n",
    "    # calculating gaussian filter\n",
    "    gauss = np.exp(-((dst - mu) ** 2 / (2.0 * sigma**2))) * normal\n",
    "\n",
    "    return gauss\n",
    "\n",
    "\n",
    "# specify kernel size\n",
    "kernel_size = 5\n",
    "# applying the written function and built the desired array\n",
    "gaussian = gaussian_filter(kernel_size)\n",
    "\n",
    "# print answer\n",
    "print(\"gaussian filter of {} x {} :\".format(kernel_size, kernel_size), \"\\n\", gaussian)"
   ]
  },
  {
   "cell_type": "markdown",
   "metadata": {},
   "source": [
    "## Q3\n",
    "\n",
    "Define an arbitrary array and make it immutable. (read-only)"
   ]
  },
  {
   "cell_type": "code",
   "execution_count": 3,
   "metadata": {},
   "outputs": [
    {
     "ename": "ValueError",
     "evalue": "assignment destination is read-only",
     "output_type": "error",
     "traceback": [
      "\u001b[1;31m---------------------------------------------------------------------------\u001b[0m",
      "\u001b[1;31mValueError\u001b[0m                                Traceback (most recent call last)",
      "\u001b[1;32mc:\\Users\\AliBa\\Downloads\\HW2.ipynb Cell 7\u001b[0m line \u001b[0;36m1\n\u001b[0;32m      <a href='vscode-notebook-cell:/c%3A/Users/AliBa/Downloads/HW2.ipynb#W6sZmlsZQ%3D%3D?line=6'>7</a>\u001b[0m Z\u001b[39m.\u001b[39mflags\u001b[39m.\u001b[39mwriteable \u001b[39m=\u001b[39m \u001b[39mFalse\u001b[39;00m\n\u001b[0;32m      <a href='vscode-notebook-cell:/c%3A/Users/AliBa/Downloads/HW2.ipynb#W6sZmlsZQ%3D%3D?line=8'>9</a>\u001b[0m \u001b[39m# checking if it works properly or not\u001b[39;00m\n\u001b[1;32m---> <a href='vscode-notebook-cell:/c%3A/Users/AliBa/Downloads/HW2.ipynb#W6sZmlsZQ%3D%3D?line=9'>10</a>\u001b[0m Z[\u001b[39m0\u001b[39;49m] \u001b[39m=\u001b[39m \u001b[39m1\u001b[39m\n",
      "\u001b[1;31mValueError\u001b[0m: assignment destination is read-only"
     ]
    }
   ],
   "source": [
    "# import numpy package\n",
    "import numpy as np\n",
    "\n",
    "# make a zeros array\n",
    "Z = np.zeros(10)\n",
    "# make the array immutable\n",
    "Z.flags.writeable = False\n",
    "\n",
    "# checking if it works properly or not\n",
    "Z[0] = 1"
   ]
  },
  {
   "cell_type": "markdown",
   "metadata": {},
   "source": [
    "## Q4\n",
    "\n",
    "Write a function that takes an array and a number $n$ as input and returns the $n^{th}$ largest number of the array."
   ]
  },
  {
   "cell_type": "code",
   "execution_count": 4,
   "metadata": {},
   "outputs": [
    {
     "data": {
      "text/plain": [
       "66"
      ]
     },
     "execution_count": 4,
     "metadata": {},
     "output_type": "execute_result"
    }
   ],
   "source": [
    "# import numpy package\n",
    "import numpy as np\n",
    "\n",
    "\n",
    "# define our function\n",
    "def nth_largest_number(array, n):\n",
    "    return np.sort(array.flatten())[-n]\n",
    "\n",
    "\n",
    "nth_largest_number(np.array([[66, 15, 35], [90, 34, 7], [85, 79, 43]]), 4)"
   ]
  },
  {
   "cell_type": "markdown",
   "metadata": {},
   "source": [
    "## Q5\n",
    "\n",
    "Write a program that takes a number $n$ from the user. Then generate a random number between $1$ and $n$ and put it in variable $m$. Finally, generate an $n \\times n$ array whose elements are between $0$ and $n$ and sort the rows of this array based on the values of the $m^{th}$ column and print the result."
   ]
  },
  {
   "cell_type": "code",
   "execution_count": 5,
   "metadata": {},
   "outputs": [
    {
     "name": "stdout",
     "output_type": "stream",
     "text": [
      "n = 4\n",
      "m = 4 \n",
      "\n",
      "random_array:\n",
      " [[2 1 4 0]\n",
      " [1 4 3 4]\n",
      " [3 4 4 2]\n",
      " [0 0 4 2]] \n",
      "\n",
      "sorted_random_array:\n",
      " [[2 1 4 0]\n",
      " [3 4 4 2]\n",
      " [0 0 4 2]\n",
      " [1 4 3 4]]\n"
     ]
    }
   ],
   "source": [
    "# getting the number n from the user\n",
    "n = int(input(\"Please enter the number n: \"))\n",
    "# generating the number m\n",
    "m = np.random.randint(low=1, high=n + 1)\n",
    "\n",
    "# generating the array\n",
    "random_array = np.random.randint(low=0, high=n + 1, size=(n, n))\n",
    "# sorting the array based on the values of the mth column\n",
    "sorted_random_array = random_array[random_array[:, m - 1].argsort()]\n",
    "\n",
    "# print number n\n",
    "print(\"n =\", n)\n",
    "# print number m\n",
    "print(\"m =\", m, \"\\n\")\n",
    "# print the array\n",
    "print(\"random_array:\\n\", random_array, \"\\n\")\n",
    "# print the answer (sorted array)\n",
    "print(\"sorted_random_array:\\n\", sorted_random_array)"
   ]
  },
  {
   "cell_type": "markdown",
   "metadata": {},
   "source": [
    "<div class=\"alert alert-block alert-info\">\n",
    "\n",
    "**Attention:** To do this series of exercises, you are only allowed to use numpy library functions.\n",
    "</div>"
   ]
  },
  {
   "cell_type": "markdown",
   "metadata": {},
   "source": [
    "Good luck 😉"
   ]
  },
  {
   "cell_type": "markdown",
   "metadata": {},
   "source": []
  }
 ],
 "metadata": {
  "kernelspec": {
   "display_name": "Python 3",
   "language": "python",
   "name": "python3"
  },
  "language_info": {
   "codemirror_mode": {
    "name": "ipython",
    "version": 3
   },
   "file_extension": ".py",
   "mimetype": "text/x-python",
   "name": "python",
   "nbconvert_exporter": "python",
   "pygments_lexer": "ipython3",
   "version": "3.11.3"
  }
 },
 "nbformat": 4,
 "nbformat_minor": 2
}
