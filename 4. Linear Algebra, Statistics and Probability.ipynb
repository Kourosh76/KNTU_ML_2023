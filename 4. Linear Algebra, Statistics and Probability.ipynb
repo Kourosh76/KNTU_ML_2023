{
 "cells": [
  {
   "cell_type": "markdown",
   "metadata": {},
   "source": [
    "<div>\n",
    "    <img src=\"figures/linear algebra, statistics and probability intro image.jpg\" width=\"500\">\n",
    "</div>"
   ]
  },
  {
   "cell_type": "markdown",
   "metadata": {},
   "source": [
    "# Outline <a class=\"anchor\" id=\"Outline\"></a>"
   ]
  },
  {
   "cell_type": "markdown",
   "metadata": {},
   "source": [
    "* [Linear Algebra](#linear_algebra)\n",
    "    * [Transpose](#transpose)\n",
    "    * [Product](#product)\n",
    "    * [Identity Matrix](#identity_matrix)\n",
    "    * [Trace](#trace)\n",
    "    * [Determinant](#determinant)\n",
    "    * [Inverse Matrix](#inverse_matrix)\n",
    "    * [Norm](#norm)\n",
    "    * [Eigenvalue & Eigenvector](#eigenvalue_and_eigenvector)\n",
    "* [Statistics and Probability](#statistics_and_probability)\n",
    "    * [Mean](#mean)\n",
    "    * [Median](#median)\n",
    "    * [Mode](#mode)\n",
    "    * [Standard Deviation](#standard_deviation)\n",
    "    * [Variance](#variance)\n",
    "    * [Random Number](#random_number)\n",
    "    * [Random Array](#random_array)\n",
    "    * [Random Number From Array](#random_number_from_array)\n",
    "    * [Random Distribution](#random_distribution)\n",
    "    * [Visualize Distributions With Seaborn](#visualize_distributions_with_seaborn)\n",
    "        * [Multinoulli Distribution](#multinoulli_distribution)\n",
    "        * [Normal (Gaussian) Distribution](#normal_gaussian_distribution)\n",
    "        * [Laplace Distribution](#laplace_distribution)\n",
    "        * [Exponential Distribution](#exponential_distribution)"
   ]
  },
  {
   "cell_type": "markdown",
   "id": "3db30806",
   "metadata": {},
   "source": [
    "# Linear Algebra <a class=\"anchor\" id=\"linear_algebra\"></a> [&#11014;](#Outline)"
   ]
  },
  {
   "cell_type": "code",
   "execution_count": 1,
   "id": "29c6b3c6",
   "metadata": {},
   "outputs": [],
   "source": [
    "import numpy as np"
   ]
  },
  {
   "cell_type": "markdown",
   "id": "9c52900a",
   "metadata": {},
   "source": [
    "## Transpose <a class=\"anchor\" id=\"transpose\"></a> [&#11014;](#Outline)"
   ]
  },
  {
   "cell_type": "code",
   "execution_count": 2,
   "id": "deb15715",
   "metadata": {},
   "outputs": [
    {
     "name": "stdout",
     "output_type": "stream",
     "text": [
      "Vector: \n",
      " [1 2 3 4 5 6]\n",
      "\n",
      "Transpose of vector: \n",
      " [1 2 3 4 5 6]\n",
      "\n",
      "Matrix: \n",
      " [[1 2 3]\n",
      " [4 5 6]]\n",
      "\n",
      "Transpose of matrix: \n",
      " [[1 4]\n",
      " [2 5]\n",
      " [3 6]]\n"
     ]
    }
   ],
   "source": [
    "vector = np.array([1,2,3,4,5,6])\n",
    "matrix = np.array([[1,2,3],[4,5,6]])\n",
    "\n",
    "print(\"Vector: \\n\", vector)\n",
    "print()\n",
    "print(\"Transpose of vector: \\n\", vector.T)\n",
    "#print(\"Transpose of vector:\", np.transpose(vector))\n",
    "\n",
    "print()\n",
    "\n",
    "print(\"Matrix: \\n\", matrix)\n",
    "print()\n",
    "print(\"Transpose of matrix: \\n\", matrix.T)\n",
    "#print(\"Transpose of matrix:\", np.transpose(matrix))"
   ]
  },
  {
   "cell_type": "markdown",
   "id": "856511db",
   "metadata": {},
   "source": [
    "## Product <a class=\"anchor\" id=\"product\"></a> [&#11014;](#Outline)"
   ]
  },
  {
   "cell_type": "code",
   "execution_count": 3,
   "id": "f829a7bb",
   "metadata": {},
   "outputs": [
    {
     "name": "stdout",
     "output_type": "stream",
     "text": [
      "Matrix A: \n",
      " [[1 2]\n",
      " [3 4]]\n",
      "\n",
      "Matrix B: \n",
      " [[5 6]\n",
      " [7 8]]\n",
      "\n",
      "AB (Matrix Product): \n",
      " [[19 22]\n",
      " [43 50]]\n",
      "\n",
      "AB (Hadamard Product): \n",
      " [[ 5 12]\n",
      " [21 32]]\n"
     ]
    }
   ],
   "source": [
    "A = np.array([[1,2],[3,4]])\n",
    "B = np.array([[5,6],[7,8]])\n",
    "\n",
    "print(\"Matrix A: \\n\", A)\n",
    "print()\n",
    "print(\"Matrix B: \\n\", B)\n",
    "\n",
    "print()\n",
    "\n",
    "# Matrix product\n",
    "print(\"AB (Matrix Product): \\n\", A @ B)\n",
    "#print(np.dot(A, B))\n",
    "#print(np.matmul(A, B))\n",
    "\n",
    "print()\n",
    "\n",
    "# Hadamard product\n",
    "print(\"AB (Hadamard Product): \\n\", A*B)"
   ]
  },
  {
   "cell_type": "markdown",
   "id": "4363cc50",
   "metadata": {},
   "source": [
    "## Identity Matrix <a class=\"anchor\" id=\"identity_matrix\"></a> [&#11014;](#Outline)"
   ]
  },
  {
   "cell_type": "code",
   "execution_count": 4,
   "id": "3a242cfe",
   "metadata": {},
   "outputs": [
    {
     "name": "stdout",
     "output_type": "stream",
     "text": [
      "I: \n",
      " [[1 0]\n",
      " [0 1]]\n",
      "\n",
      "AI: \n",
      " [[1 2]\n",
      " [3 4]]\n",
      "\n",
      "A: \n",
      " [[1 2]\n",
      " [3 4]]\n"
     ]
    }
   ],
   "source": [
    "A = np.array([[1,2],[3,4]])\n",
    "I = np.identity(2, dtype=int) # dtype = float (default)\n",
    "\n",
    "print(\"I: \\n\", I)\n",
    "print()\n",
    "print(\"AI: \\n\", np.dot(A, I))\n",
    "print()\n",
    "print(\"A: \\n\", A)"
   ]
  },
  {
   "cell_type": "markdown",
   "id": "efde130d",
   "metadata": {},
   "source": [
    "## Trace <a class=\"anchor\" id=\"trace\"></a> [&#11014;](#Outline)"
   ]
  },
  {
   "cell_type": "code",
   "execution_count": 5,
   "id": "70afb35d",
   "metadata": {},
   "outputs": [
    {
     "name": "stdout",
     "output_type": "stream",
     "text": [
      "A: \n",
      " [[1 2]\n",
      " [3 4]]\n",
      "\n",
      "Tr(A): \n",
      " 5\n"
     ]
    }
   ],
   "source": [
    "print('A: \\n', A)\n",
    "print()\n",
    "print('Tr(A): \\n', np.trace(A))"
   ]
  },
  {
   "cell_type": "markdown",
   "id": "e8ed9ea0",
   "metadata": {},
   "source": [
    "## Determinant <a class=\"anchor\" id=\"determinant\"></a> [&#11014;](#Outline)"
   ]
  },
  {
   "cell_type": "code",
   "execution_count": 6,
   "id": "bb8b1782",
   "metadata": {},
   "outputs": [],
   "source": [
    "import numpy.linalg as LA"
   ]
  },
  {
   "cell_type": "code",
   "execution_count": 7,
   "id": "63cf0359",
   "metadata": {},
   "outputs": [
    {
     "name": "stdout",
     "output_type": "stream",
     "text": [
      "Determinant of Matrix A: -2.0000000000000004\n"
     ]
    }
   ],
   "source": [
    "A = np.array([[1,2],[3,4]])\n",
    "\n",
    "print(\"Determinant of Matrix A:\", LA.det(A))"
   ]
  },
  {
   "cell_type": "markdown",
   "id": "7b9fd1bf",
   "metadata": {},
   "source": [
    "## Inverse matrix <a class=\"anchor\" id=\"inverse_matrix\"></a> [&#11014;](#Outline)"
   ]
  },
  {
   "cell_type": "code",
   "execution_count": 8,
   "id": "3b175072",
   "metadata": {},
   "outputs": [
    {
     "name": "stdout",
     "output_type": "stream",
     "text": [
      "A: \n",
      " [[1 2]\n",
      " [3 4]]\n",
      "\n",
      "A^{-1}: \n",
      " [[-2.   1. ]\n",
      " [ 1.5 -0.5]]\n"
     ]
    }
   ],
   "source": [
    "A = np.array([[1,2],[3,4]])\n",
    "\n",
    "print(\"A: \\n\", A)\n",
    "print()\n",
    "print(\"A^{-1}: \\n\", LA.inv(A))"
   ]
  },
  {
   "cell_type": "markdown",
   "id": "927b9a23",
   "metadata": {},
   "source": [
    "## Norm <a class=\"anchor\" id=\"norm\"></a> [&#11014;](#Outline)"
   ]
  },
  {
   "cell_type": "markdown",
   "metadata": {},
   "source": [
    "$$||\\bold{x}||_{p} = \\left(\\sum_{i} |x_{i}|^{p}\\right)^{p}$$"
   ]
  },
  {
   "cell_type": "code",
   "execution_count": 9,
   "id": "054e7572",
   "metadata": {},
   "outputs": [
    {
     "name": "stdout",
     "output_type": "stream",
     "text": [
      "Vector A: \n",
      " [-4 -3 -2 -1  0  1  2  3  4]\n",
      "\n",
      "Matrix B: \n",
      " [[-4 -3 -2]\n",
      " [-1  0  1]\n",
      " [ 2  3  4]]\n"
     ]
    }
   ],
   "source": [
    "A = np.arange(9) - 4\n",
    "print('Vector A: \\n', A)\n",
    "\n",
    "print()\n",
    "\n",
    "B = A.reshape((3, 3))\n",
    "print('Matrix B: \\n', B)"
   ]
  },
  {
   "cell_type": "code",
   "execution_count": 10,
   "id": "35ee83be",
   "metadata": {},
   "outputs": [
    {
     "name": "stdout",
     "output_type": "stream",
     "text": [
      "2-norm of vector A: \n",
      " 7.745966692414834\n",
      "\n",
      "Frobenius norm of matrix B: \n",
      " 7.745966692414834\n",
      "\n",
      "max(abs(A)): \n",
      " 4.0\n",
      "\n",
      "max(sum(abs(B), axis=1)): \n",
      " 9.0\n",
      "\n",
      "min(abs(x)): \n",
      " 0.0\n",
      "\n",
      "min(sum(abs(x), axis=1)): \n",
      " 2.0\n"
     ]
    }
   ],
   "source": [
    "print('2-norm of vector A: \\n', LA.norm(A))\n",
    "print()\n",
    "print('Frobenius norm of matrix B: \\n', LA.norm(B))\n",
    "#print('Frobenius norm of matrix B: \\n', LA.norm(B, 'fro'))\n",
    "print()\n",
    "print('max(abs(A)): \\n', LA.norm(A, np.inf))\n",
    "print()\n",
    "print('max(sum(abs(B), axis=1)): \\n', LA.norm(B, np.inf))\n",
    "print()\n",
    "print('min(abs(x)): \\n', LA.norm(A, -np.inf))\n",
    "print()\n",
    "print('min(sum(abs(x), axis=1)): \\n', LA.norm(B, -np.inf))"
   ]
  },
  {
   "cell_type": "markdown",
   "id": "091d4c11",
   "metadata": {},
   "source": [
    "## Eigenvalue & Eigenvector <a class=\"anchor\" id=\"eigenvalue_and_eigenvector\"></a> [&#11014;](#Outline)"
   ]
  },
  {
   "cell_type": "code",
   "execution_count": 11,
   "id": "8c54bfb2",
   "metadata": {},
   "outputs": [
    {
     "name": "stdout",
     "output_type": "stream",
     "text": [
      "Matrix A: \n",
      " [[ 2 -4]\n",
      " [-1 -1]]\n",
      "\n",
      "Eigenvalues of matrix A: \n",
      " [ 3. -2.]\n",
      "\n",
      "Eigenvectors of matrix A: \n",
      " [[ 0.9701425   0.70710678]\n",
      " [-0.24253563  0.70710678]]\n"
     ]
    }
   ],
   "source": [
    "A = np.array([[2,-4],[-1,-1]])\n",
    "\n",
    "w, v = LA.eig(A)\n",
    "\n",
    "print('Matrix A: \\n', A)\n",
    "print()\n",
    "print('Eigenvalues of matrix A: \\n', w)\n",
    "print()\n",
    "print('Eigenvectors of matrix A: \\n', v)"
   ]
  },
  {
   "cell_type": "markdown",
   "id": "1146a4ba",
   "metadata": {},
   "source": [
    "# Statistics and Probability <a class=\"anchor\" id=\"statistics_and_probability\"></a> [&#11014;](#Outline)"
   ]
  },
  {
   "cell_type": "markdown",
   "id": "9b8f7712",
   "metadata": {},
   "source": [
    "## Mean <a class=\"anchor\" id=\"mean\"></a> [&#11014;](#Outline)"
   ]
  },
  {
   "cell_type": "code",
   "execution_count": 12,
   "id": "43cc13cc",
   "metadata": {},
   "outputs": [
    {
     "name": "stdout",
     "output_type": "stream",
     "text": [
      "89.76923076923077\n"
     ]
    }
   ],
   "source": [
    "print(np.mean([99,86,87,88,111,86,103,87,94,78,77,85,86]))"
   ]
  },
  {
   "cell_type": "markdown",
   "id": "674757ef",
   "metadata": {},
   "source": [
    "$$\\mu = \\frac{99+86+87+88+111+86+103+87+94+78+77+85+86}{13} = \\frac{1167}{13} = 89.76923076923077$$"
   ]
  },
  {
   "cell_type": "markdown",
   "id": "657b8e36",
   "metadata": {},
   "source": [
    "## Median <a class=\"anchor\" id=\"median\"></a> [&#11014;](#Outline)"
   ]
  },
  {
   "cell_type": "code",
   "execution_count": 13,
   "id": "09036cdc",
   "metadata": {},
   "outputs": [
    {
     "name": "stdout",
     "output_type": "stream",
     "text": [
      "87.0\n"
     ]
    }
   ],
   "source": [
    "print(np.median([99,86,87,88,111,86,103,87,94,78,77,85,86]))"
   ]
  },
  {
   "cell_type": "markdown",
   "id": "57da5276",
   "metadata": {},
   "source": [
    "<div class=\"alert alert-block alert-info\">\n",
    "If there are two numbers in the middle, divide the sum of those numbers by two.\n",
    "</div>"
   ]
  },
  {
   "cell_type": "code",
   "execution_count": 14,
   "id": "4248e89c",
   "metadata": {},
   "outputs": [
    {
     "name": "stdout",
     "output_type": "stream",
     "text": [
      "86.5\n"
     ]
    }
   ],
   "source": [
    "print(np.median([99,86,87,88,86,103,87,94,78,77,85,86]))"
   ]
  },
  {
   "cell_type": "markdown",
   "id": "93942e61",
   "metadata": {},
   "source": [
    "$$\\text{Median} = \\frac{86+87}{2} = 86.5$$"
   ]
  },
  {
   "cell_type": "markdown",
   "id": "36bed72d",
   "metadata": {},
   "source": [
    "## Mode <a class=\"anchor\" id=\"mode\"></a> [&#11014;](#Outline)"
   ]
  },
  {
   "cell_type": "code",
   "execution_count": 15,
   "id": "7e18c453",
   "metadata": {},
   "outputs": [
    {
     "name": "stdout",
     "output_type": "stream",
     "text": [
      "ModeResult(mode=86, count=3)\n"
     ]
    }
   ],
   "source": [
    "from scipy import stats\n",
    "\n",
    "print(stats.mode([99,86,87,88,111,86,103,87,94,78,77,85,86]))"
   ]
  },
  {
   "cell_type": "markdown",
   "id": "53341c27",
   "metadata": {},
   "source": [
    "## Standard Deviation <a class=\"anchor\" id=\"standard_deviation\"></a> [&#11014;](#Outline)"
   ]
  },
  {
   "cell_type": "markdown",
   "id": "b95c6e5c",
   "metadata": {},
   "source": [
    "Standard deviation is a number that describes how spread out the values are.\n",
    "\n",
    "A low standard deviation means that most of the numbers are close to the mean (average) value.\n",
    "\n",
    "A high standard deviation means that the values are spread out over a wider range."
   ]
  },
  {
   "cell_type": "markdown",
   "id": "14c2a82b",
   "metadata": {},
   "source": [
    "$$\\sigma = \\sqrt{\\frac{1}{N}\\sum_{i=1}^{N}\\left(x_i - \\mu\\right)^2}$$"
   ]
  },
  {
   "cell_type": "code",
   "execution_count": 16,
   "id": "b4ad179a",
   "metadata": {},
   "outputs": [
    {
     "name": "stdout",
     "output_type": "stream",
     "text": [
      "Average: 86.0\n",
      "Standard deviation: 1.5118578920369088\n"
     ]
    }
   ],
   "source": [
    "speed = [86,87,88,86,87,85,83]\n",
    "\n",
    "print('Average:', np.mean(speed))\n",
    "print('Standard deviation:', np.std(speed))"
   ]
  },
  {
   "cell_type": "markdown",
   "id": "726a4fbc",
   "metadata": {},
   "source": [
    "$$\\mu = \\frac{86+87+88+86+87+85+83}{7} = 86$$"
   ]
  },
  {
   "cell_type": "markdown",
   "id": "9c5b2f90",
   "metadata": {},
   "source": [
    "$$\\sigma = \\sqrt{\\frac{1}{7}\\left(\\left(86-86\\right)^2 + \\left(87-86\\right)^2 + \\left(88-86\\right)^2 + \\left(86-86\\right)^2 + \\left(87-86\\right)^2 + \\left(85-86\\right)^2 + \\left(83-86\\right)^2\\right)} = 1.5118578920369088$$"
   ]
  },
  {
   "cell_type": "markdown",
   "id": "29e25a15",
   "metadata": {},
   "source": [
    "Meaning that most of the values are within the range of $1.5$ from the mean value, which is $86$."
   ]
  },
  {
   "cell_type": "markdown",
   "id": "175b1d24",
   "metadata": {},
   "source": [
    "<div class=\"alert alert-block alert-info\">\n",
    "\n",
    "If we assume that our data is normally distributed, we can say that $68\\%$ of the data is within $1\\sigma$ of the mean\n",
    "</div>"
   ]
  },
  {
   "cell_type": "markdown",
   "id": "1ce8843a",
   "metadata": {},
   "source": [
    "## Variance <a class=\"anchor\" id=\"variance\"></a> [&#11014;](#Outline)"
   ]
  },
  {
   "cell_type": "code",
   "execution_count": 17,
   "id": "e883fa77",
   "metadata": {},
   "outputs": [
    {
     "name": "stdout",
     "output_type": "stream",
     "text": [
      "Standard deviation: 1.5118578920369088\n",
      "Variance: 2.2857142857142856\n"
     ]
    }
   ],
   "source": [
    "import numpy as np\n",
    "\n",
    "speed = [86,87,88,86,87,85,83]\n",
    "\n",
    "print('Standard deviation:', np.std(speed))\n",
    "print('Variance:', np.var(speed))"
   ]
  },
  {
   "cell_type": "markdown",
   "id": "f9ac91d4",
   "metadata": {},
   "source": [
    "$$\\sigma^2 = (1.5118578920369088)^2 = 2.2857142857142856$$"
   ]
  },
  {
   "cell_type": "markdown",
   "id": "dab1b50b",
   "metadata": {},
   "source": [
    "## Random Number <a class=\"anchor\" id=\"random_number\"></a> [&#11014;](#Outline)"
   ]
  },
  {
   "cell_type": "code",
   "execution_count": 18,
   "id": "a1d5db28",
   "metadata": {},
   "outputs": [],
   "source": [
    "from numpy import random"
   ]
  },
  {
   "cell_type": "markdown",
   "id": "751f26a0",
   "metadata": {},
   "source": [
    "Generate a $\\textit{random integer}$ from $0$ to $100$:"
   ]
  },
  {
   "cell_type": "code",
   "execution_count": 19,
   "id": "91862cd6",
   "metadata": {},
   "outputs": [
    {
     "name": "stdout",
     "output_type": "stream",
     "text": [
      "68\n"
     ]
    }
   ],
   "source": [
    "print(random.randint(100))"
   ]
  },
  {
   "cell_type": "markdown",
   "id": "5da410e2",
   "metadata": {},
   "source": [
    "Generate a $\\textit{random float}$ from $0$ to $1$:"
   ]
  },
  {
   "cell_type": "code",
   "execution_count": 20,
   "id": "fcabb145",
   "metadata": {},
   "outputs": [
    {
     "name": "stdout",
     "output_type": "stream",
     "text": [
      "0.8491649638589899\n"
     ]
    }
   ],
   "source": [
    "print(random.rand())"
   ]
  },
  {
   "cell_type": "markdown",
   "id": "7d55972e",
   "metadata": {},
   "source": [
    "## Random Array <a class=\"anchor\" id=\"random_array\"></a> [&#11014;](#Outline)"
   ]
  },
  {
   "cell_type": "markdown",
   "id": "86a61fd5",
   "metadata": {},
   "source": [
    "Generate a 1-D array containing $5$ random integers from $0$ to $100$:"
   ]
  },
  {
   "cell_type": "code",
   "execution_count": 21,
   "id": "40f5fa37",
   "metadata": {},
   "outputs": [
    {
     "name": "stdout",
     "output_type": "stream",
     "text": [
      "[31 16 68 26 95]\n"
     ]
    }
   ],
   "source": [
    "print(random.randint(100, size=(5)))"
   ]
  },
  {
   "cell_type": "markdown",
   "id": "31c92c39",
   "metadata": {},
   "source": [
    "Generate a 2-D array with $3$ rows, each row containing $5$ random integers from $0$ to $100$:"
   ]
  },
  {
   "cell_type": "code",
   "execution_count": 22,
   "id": "94f24b9a",
   "metadata": {},
   "outputs": [
    {
     "name": "stdout",
     "output_type": "stream",
     "text": [
      "[[33 98 94 65 12]\n",
      " [57 18  2 55 47]\n",
      " [67 82 94 66 17]]\n"
     ]
    }
   ],
   "source": [
    "print(random.randint(100, size=(3, 5)))"
   ]
  },
  {
   "cell_type": "markdown",
   "id": "ec313e15",
   "metadata": {},
   "source": [
    "Generate a 1-D array containing $5$ random floats:"
   ]
  },
  {
   "cell_type": "code",
   "execution_count": 23,
   "id": "f0c461eb",
   "metadata": {},
   "outputs": [
    {
     "name": "stdout",
     "output_type": "stream",
     "text": [
      "[0.30953415 0.35817491 0.87427793 0.63898088 0.72698118]\n"
     ]
    }
   ],
   "source": [
    "print(random.rand(5))"
   ]
  },
  {
   "cell_type": "markdown",
   "id": "ba334635",
   "metadata": {},
   "source": [
    "Generate a 2-D array with $3$ rows, each row containing $5$ random numbers:"
   ]
  },
  {
   "cell_type": "code",
   "execution_count": 24,
   "id": "6a9de3ec",
   "metadata": {},
   "outputs": [
    {
     "name": "stdout",
     "output_type": "stream",
     "text": [
      "[[0.3529917  0.45959637 0.63398644 0.30350435 0.41312563]\n",
      " [0.1138035  0.0575161  0.66744508 0.45644504 0.29777802]\n",
      " [0.99933137 0.4024993  0.32960178 0.37484224 0.61090471]]\n"
     ]
    }
   ],
   "source": [
    "print(random.rand(3, 5))"
   ]
  },
  {
   "cell_type": "markdown",
   "id": "6831777c",
   "metadata": {},
   "source": [
    "## Random Number From Array <a class=\"anchor\" id=\"random_number_from_array\"></a> [&#11014;](#Outline)"
   ]
  },
  {
   "cell_type": "markdown",
   "id": "9bd03621",
   "metadata": {},
   "source": [
    "Return one of the values in an array:"
   ]
  },
  {
   "cell_type": "code",
   "execution_count": 25,
   "id": "6d40e08f",
   "metadata": {},
   "outputs": [
    {
     "name": "stdout",
     "output_type": "stream",
     "text": [
      "5\n"
     ]
    }
   ],
   "source": [
    "print(random.choice([3, 5, 7, 9]))"
   ]
  },
  {
   "cell_type": "markdown",
   "id": "9d1d4371",
   "metadata": {},
   "source": [
    "Generate a 2-D array that consists of the values in the array parameter:"
   ]
  },
  {
   "cell_type": "code",
   "execution_count": 26,
   "id": "4992299e",
   "metadata": {},
   "outputs": [
    {
     "name": "stdout",
     "output_type": "stream",
     "text": [
      "[[9 9 3 5 3]\n",
      " [3 3 5 3 5]\n",
      " [7 7 3 5 5]]\n"
     ]
    }
   ],
   "source": [
    "print(random.choice([3, 5, 7, 9], size=(3, 5)))"
   ]
  },
  {
   "cell_type": "markdown",
   "id": "c880903c",
   "metadata": {},
   "source": [
    "## Random Distribution <a class=\"anchor\" id=\"random_distribution\"></a> [&#11014;](#Outline)"
   ]
  },
  {
   "cell_type": "markdown",
   "id": "d4b2067f",
   "metadata": {},
   "source": [
    "Generate a 1-D array containing $100$ values, where each value has to be $3$, $5$, $7$ or $9$:\n",
    "\n",
    "- The probability for the value to be $3$ is set to be $0.1$\n",
    "\n",
    "- The probability for the value to be $5$ is set to be $0.3$\n",
    "\n",
    "- The probability for the value to be $7$ is set to be $0.6$\n",
    "\n",
    "- The probability for the value to be $9$ is set to be $0$"
   ]
  },
  {
   "cell_type": "code",
   "execution_count": 27,
   "id": "88fa98b1",
   "metadata": {},
   "outputs": [
    {
     "name": "stdout",
     "output_type": "stream",
     "text": [
      "[7 3 7 5 7 5 5 7 7 7 3 5 7 3 7 5 7 5 7 5 7 7 7 5 5 3 7 7 7 5 7 5 7 5 7 5 7\n",
      " 7 7 3 7 7 7 5 7 5 3 7 5 5 7 7 3 7 7 5 5 7 7 5 7 7 7 7 7 7 7 7 7 7 5 3 7 5\n",
      " 5 7 5 7 7 7 5 7 7 7 7 7 7 5 3 7 7 7 7 7 5 7 7 3 7 7]\n"
     ]
    }
   ],
   "source": [
    "print(random.choice([3, 5, 7, 9], p=[0.1, 0.3, 0.6, 0.0], size=(100)))"
   ]
  },
  {
   "cell_type": "markdown",
   "id": "a43dc4b0",
   "metadata": {},
   "source": [
    "Even if you run the example above $100$ times, the value $9$ will never occur."
   ]
  },
  {
   "cell_type": "code",
   "execution_count": 28,
   "id": "3958fb18",
   "metadata": {},
   "outputs": [
    {
     "name": "stdout",
     "output_type": "stream",
     "text": [
      "[[7 3 7 3 7]\n",
      " [7 5 7 7 5]\n",
      " [7 5 7 7 3]]\n"
     ]
    }
   ],
   "source": [
    "print(random.choice([3, 5, 7, 9], p=[0.1, 0.3, 0.6, 0.0], size=(3, 5)))"
   ]
  },
  {
   "cell_type": "markdown",
   "id": "c3685cdb",
   "metadata": {},
   "source": [
    "## Visualize Distributions With Seaborn <a class=\"anchor\" id=\"visualize_distributions_with_seaborn\"></a> [&#11014;](#Outline)"
   ]
  },
  {
   "cell_type": "markdown",
   "id": "1cf0abad",
   "metadata": {},
   "source": [
    "Seaborn will be used to visualize random distributions."
   ]
  },
  {
   "cell_type": "markdown",
   "id": "c01eec94",
   "metadata": {},
   "source": [
    "``Distplot`` stands for distribution plot, it takes as input an array and plots a curve corresponding to the distribution of points in the array."
   ]
  },
  {
   "cell_type": "code",
   "execution_count": 29,
   "id": "1cbe408b",
   "metadata": {},
   "outputs": [
    {
     "name": "stderr",
     "output_type": "stream",
     "text": [
      "C:\\Users\\AliBa\\AppData\\Local\\Temp\\ipykernel_9040\\174120514.py:4: UserWarning: \n",
      "\n",
      "`distplot` is a deprecated function and will be removed in seaborn v0.14.0.\n",
      "\n",
      "Please adapt your code to use either `displot` (a figure-level function with\n",
      "similar flexibility) or `histplot` (an axes-level function for histograms).\n",
      "\n",
      "For a guide to updating your code to use the new functions, please see\n",
      "https://gist.github.com/mwaskom/de44147ed2974457ad6372750bbe5751\n",
      "\n",
      "  sns.distplot([0, 1, 2, 3, 4, 5])\n"
     ]
    },
    {
     "data": {
      "image/png": "[encoded data removed]",
      "text/plain": [
       "<Figure size 640x480 with 1 Axes>"
      ]
     },
     "metadata": {},
     "output_type": "display_data"
    }
   ],
   "source": [
    "import matplotlib.pyplot as plt\n",
    "import seaborn as sns\n",
    "\n",
    "sns.distplot([0, 1, 2, 3, 4, 5])\n",
    "\n",
    "plt.show()"
   ]
  },
  {
   "cell_type": "code",
   "execution_count": 30,
   "id": "22415100",
   "metadata": {},
   "outputs": [
    {
     "name": "stderr",
     "output_type": "stream",
     "text": [
      "C:\\Users\\AliBa\\AppData\\Local\\Temp\\ipykernel_9040\\3076526183.py:3: UserWarning: \n",
      "\n",
      "`distplot` is a deprecated function and will be removed in seaborn v0.14.0.\n",
      "\n",
      "Please adapt your code to use either `displot` (a figure-level function with\n",
      "similar flexibility) or `kdeplot` (an axes-level function for kernel density plots).\n",
      "\n",
      "For a guide to updating your code to use the new functions, please see\n",
      "https://gist.github.com/mwaskom/de44147ed2974457ad6372750bbe5751\n",
      "\n",
      "  sns.distplot([0, 1, 2, 3, 4, 5], hist=False)\n"
     ]
    },
    {
     "data": {
      "image/png": "[encoded data removed]",
      "text/plain": [
       "<Figure size 640x480 with 1 Axes>"
      ]
     },
     "metadata": {},
     "output_type": "display_data"
    }
   ],
   "source": [
    "# Plotting a Distplot Without the Histogram\n",
    "\n",
    "sns.distplot([0, 1, 2, 3, 4, 5], hist=False)\n",
    "\n",
    "plt.show()"
   ]
  },
  {
   "cell_type": "markdown",
   "id": "310eb444",
   "metadata": {},
   "source": [
    "### Multinoulli Distribution <a class=\"anchor\" id=\"multinoulli_distribution\"></a> [&#11014;](#Outline)"
   ]
  },
  {
   "cell_type": "markdown",
   "id": "a160d37f",
   "metadata": {},
   "source": [
    "This distribution is also called $\\textbf{categorial distribution}$, since it can be used to model events with $K$ possible outcomes. Bernoulli distribution can be seen as a specific case of Multinoulli, where the number of possible outcomes $K$ is $2$."
   ]
  },
  {
   "cell_type": "markdown",
   "id": "07e75261",
   "metadata": {},
   "source": [
    "Take an experiment with one of $p$ possible outcomes. An example of such an experiment is throwing a dice, where the outcome can be $1$ through $6$. Each sample drawn from the distribution represents n such experiments. Its values, $X_i = [X_{0}, X_{1}, ..., X_{p}]$, represent the number of times the outcome was $i$."
   ]
  },
  {
   "cell_type": "markdown",
   "id": "a81cc085",
   "metadata": {},
   "source": [
    "Parameters:\n",
    "- ``n`` - int\n",
    "    - Number of experiments.\n",
    "- ``pvals`` - sequence of floats, length $p$\n",
    "    - Probabilities of each of the $p$ different outcomes. These must sum to $1$.\n",
    "- ``size`` - int or tuple of ints, optional\n",
    "    - Output shape. If the given shape is, e.g., $(m, n, k)$, then $m \\times n \\times k$ samples are drawn. Default is ``None``, in which case a single value is returned."
   ]
  },
  {
   "cell_type": "markdown",
   "id": "9e7e73a0",
   "metadata": {},
   "source": [
    "Throw a dice $20$ times:"
   ]
  },
  {
   "cell_type": "code",
   "execution_count": 31,
   "id": "88985aa9",
   "metadata": {},
   "outputs": [
    {
     "data": {
      "text/plain": [
       "array([[3, 2, 2, 5, 4, 4]])"
      ]
     },
     "execution_count": 31,
     "metadata": {},
     "output_type": "execute_result"
    }
   ],
   "source": [
    "np.random.multinomial(n=20, pvals=[1/6.]*6, size=1)"
   ]
  },
  {
   "cell_type": "markdown",
   "id": "5a2cb32f",
   "metadata": {},
   "source": [
    "Now, throw the dice $20$ times, and $20$ times again:"
   ]
  },
  {
   "cell_type": "code",
   "execution_count": 32,
   "id": "2285c579",
   "metadata": {},
   "outputs": [
    {
     "data": {
      "text/plain": [
       "array([[1, 4, 8, 1, 3, 3],\n",
       "       [2, 8, 3, 2, 1, 4]])"
      ]
     },
     "execution_count": 32,
     "metadata": {},
     "output_type": "execute_result"
    }
   ],
   "source": [
    "np.random.multinomial(n=20, pvals=[1/6.]*6, size=2)"
   ]
  },
  {
   "cell_type": "markdown",
   "id": "c22354db",
   "metadata": {},
   "source": [
    "A loaded die is more likely to land on number $6$:"
   ]
  },
  {
   "cell_type": "code",
   "execution_count": 33,
   "id": "c992192e",
   "metadata": {},
   "outputs": [
    {
     "data": {
      "text/plain": [
       "array([10, 12, 19, 15, 19, 25])"
      ]
     },
     "execution_count": 33,
     "metadata": {},
     "output_type": "execute_result"
    }
   ],
   "source": [
    "np.random.multinomial(n=100, pvals=[1/7.]*5 + [2/7.])"
   ]
  },
  {
   "cell_type": "code",
   "execution_count": 34,
   "id": "6ce2c53c",
   "metadata": {},
   "outputs": [
    {
     "name": "stdout",
     "output_type": "stream",
     "text": [
      "[[1 4 3 2 5 5]]\n"
     ]
    },
    {
     "name": "stderr",
     "output_type": "stream",
     "text": [
      "C:\\Users\\AliBa\\AppData\\Local\\Temp\\ipykernel_9040\\3841327364.py:4: UserWarning: \n",
      "\n",
      "`distplot` is a deprecated function and will be removed in seaborn v0.14.0.\n",
      "\n",
      "Please adapt your code to use either `displot` (a figure-level function with\n",
      "similar flexibility) or `kdeplot` (an axes-level function for kernel density plots).\n",
      "\n",
      "For a guide to updating your code to use the new functions, please see\n",
      "https://gist.github.com/mwaskom/de44147ed2974457ad6372750bbe5751\n",
      "\n",
      "  sns.distplot(x, hist=False)\n"
     ]
    },
    {
     "data": {
      "image/png": "[encoded data removed]",
      "text/plain": [
       "<Figure size 640x480 with 1 Axes>"
      ]
     },
     "metadata": {},
     "output_type": "display_data"
    }
   ],
   "source": [
    "x = np.random.multinomial(n=20, pvals=[1/6.]*6, size=1)\n",
    "print(x)\n",
    "\n",
    "sns.distplot(x, hist=False)\n",
    "\n",
    "plt.show()"
   ]
  },
  {
   "cell_type": "markdown",
   "id": "0df928e5",
   "metadata": {},
   "source": [
    "### Normal (Gaussian) Distribution <a class=\"anchor\" id=\"normal_gaussian_distribution\"></a> [&#11014;](#Outline)"
   ]
  },
  {
   "cell_type": "markdown",
   "id": "46b90c34",
   "metadata": {},
   "source": [
    "$$N(x; \\mu, \\sigma^2) = \\sqrt{\\frac{1}{2\\pi\\sigma^2}} \\exp\\left(-\\frac{1}{2\\sigma^2}\\left(x - \\mu\\right)^2\\right)$$"
   ]
  },
  {
   "cell_type": "markdown",
   "id": "6433db96",
   "metadata": {},
   "source": [
    "Use the ``random.normal()`` method to get a Normal Data Distribution.\n",
    "\n",
    "It has three parameters:\n",
    "\n",
    "- ``loc`` - (Mean) where the peak of the bell exists.\n",
    "\n",
    "- ``scale`` - (Standard Deviation) how flat the graph distribution should be.\n",
    "\n",
    "- ``size`` - The shape of the returned array."
   ]
  },
  {
   "cell_type": "markdown",
   "id": "cbc86a10",
   "metadata": {},
   "source": [
    "Generate a random normal distribution of size $2 \\times 3$ with mean at $1$ and standard deviation of $2$:"
   ]
  },
  {
   "cell_type": "code",
   "execution_count": 35,
   "id": "64009531",
   "metadata": {},
   "outputs": [
    {
     "name": "stdout",
     "output_type": "stream",
     "text": [
      "[[ 0.25600844  1.49274088  2.09483326]\n",
      " [-1.01193715  1.9334961  -0.83621507]]\n"
     ]
    }
   ],
   "source": [
    "print(random.normal(loc=1, scale=2, size=(2, 3)))"
   ]
  },
  {
   "cell_type": "code",
   "execution_count": 36,
   "id": "6279ec13",
   "metadata": {},
   "outputs": [
    {
     "name": "stderr",
     "output_type": "stream",
     "text": [
      "C:\\Users\\AliBa\\AppData\\Local\\Temp\\ipykernel_9040\\279541872.py:4: UserWarning: \n",
      "\n",
      "`distplot` is a deprecated function and will be removed in seaborn v0.14.0.\n",
      "\n",
      "Please adapt your code to use either `displot` (a figure-level function with\n",
      "similar flexibility) or `kdeplot` (an axes-level function for kernel density plots).\n",
      "\n",
      "For a guide to updating your code to use the new functions, please see\n",
      "https://gist.github.com/mwaskom/de44147ed2974457ad6372750bbe5751\n",
      "\n",
      "  sns.distplot(x, hist=False)\n"
     ]
    },
    {
     "data": {
      "image/png": "[encoded data removed]",
      "text/plain": [
       "<Figure size 640x480 with 1 Axes>"
      ]
     },
     "metadata": {},
     "output_type": "display_data"
    }
   ],
   "source": [
    "x = random.normal(loc=0, scale=1, size=1000)\n",
    "#print(x)\n",
    "\n",
    "sns.distplot(x, hist=False)\n",
    "\n",
    "plt.show()"
   ]
  },
  {
   "cell_type": "markdown",
   "id": "65fdcf8b",
   "metadata": {},
   "source": [
    "<div class=\"alert alert-block alert-info\">\n",
    "\n",
    "The curve of a Normal Distribution is also known as the $\\textit{Bell Curve}$ because of the bell-shaped curve.\n",
    "</div>"
   ]
  },
  {
   "cell_type": "markdown",
   "id": "cde172c6",
   "metadata": {},
   "source": [
    "### Laplace Distribution <a class=\"anchor\" id=\"laplace_distribution\"></a> [&#11014;](#Outline)"
   ]
  },
  {
   "cell_type": "markdown",
   "id": "44977d8a",
   "metadata": {},
   "source": [
    "$$f(x; \\mu, \\gamma) = \\frac{1}{2\\gamma} \\exp\\left(-\\frac{\\left|x-\\mu\\right|}{\\gamma}\\right)$$"
   ]
  },
  {
   "cell_type": "markdown",
   "id": "d5d2da22",
   "metadata": {},
   "source": [
    "The Laplace distribution is similar to the Gaussian/normal distribution, but is sharper at the peak and has fatter tails."
   ]
  },
  {
   "cell_type": "markdown",
   "id": "2f577158",
   "metadata": {},
   "source": [
    "Parameters:\n",
    "- ``loc`` - float or array_like of floats, optional\n",
    "    - The position, $\\mu$, of the distribution peak. Default is $0$.\n",
    "- ``scale`` - float or array_like of floats, optional\n",
    "    - $\\gamma$, $\\textit{the exponential decay.}$ Default is $1$. Must be non-negative.\n",
    "- ``size`` - int or tuple of ints, optional\n",
    "    - Output shape. If the given shape is, e.g., $\\left(m, n, k\\right)$, then $m \\times n \\times k$ samples are drawn. If size is ``None`` (default), a single value is returned if ``loc`` and ``scale`` are both scalars. Otherwise, ``np.broadcast(loc, scale).size`` samples are drawn."
   ]
  },
  {
   "cell_type": "code",
   "execution_count": 37,
   "id": "3f15f725",
   "metadata": {},
   "outputs": [
    {
     "name": "stderr",
     "output_type": "stream",
     "text": [
      "C:\\Users\\AliBa\\AppData\\Local\\Temp\\ipykernel_9040\\522194860.py:4: UserWarning: \n",
      "\n",
      "`distplot` is a deprecated function and will be removed in seaborn v0.14.0.\n",
      "\n",
      "Please adapt your code to use either `displot` (a figure-level function with\n",
      "similar flexibility) or `histplot` (an axes-level function for histograms).\n",
      "\n",
      "For a guide to updating your code to use the new functions, please see\n",
      "https://gist.github.com/mwaskom/de44147ed2974457ad6372750bbe5751\n",
      "\n",
      "  sns.distplot(x, hist=True)\n"
     ]
    },
    {
     "data": {
      "image/png": "[encoded data removed]",
      "text/plain": [
       "<Figure size 640x480 with 1 Axes>"
      ]
     },
     "metadata": {},
     "output_type": "display_data"
    }
   ],
   "source": [
    "x = np.random.laplace(loc=0, scale=1, size=1000)\n",
    "#print(x)\n",
    "\n",
    "sns.distplot(x, hist=True)\n",
    "\n",
    "plt.show()"
   ]
  },
  {
   "cell_type": "markdown",
   "id": "e4716a75",
   "metadata": {},
   "source": [
    "### Exponential Distribution <a class=\"anchor\" id=\"exponential_distribution\"></a> [&#11014;](#Outline)"
   ]
  },
  {
   "cell_type": "markdown",
   "id": "dcec30bf",
   "metadata": {},
   "source": [
    "The probability density function (pdf) of an exponential distribution is: "
   ]
  },
  {
   "cell_type": "markdown",
   "id": "cdccb303",
   "metadata": {},
   "source": [
    "$$f(x; \\lambda) = \\begin{cases}\\lambda e^{-\\lambda x} & x \\ge 0 \\\\ 0 & x < 0\\end{cases}$$"
   ]
  },
  {
   "cell_type": "markdown",
   "id": "ade8ab06",
   "metadata": {},
   "source": [
    "Here $\\lambda > 0$ is the parameter of the distribution, often called the $\\textit{rate parameter}$."
   ]
  },
  {
   "cell_type": "markdown",
   "id": "3f923b11",
   "metadata": {},
   "source": [
    "It has two parameters:\n",
    "\n",
    "- ``scale`` - $\\textit{inverse of rate}$. defaults to $1.0$.\n",
    "\n",
    "- ``size`` - The shape of the returned array."
   ]
  },
  {
   "cell_type": "code",
   "execution_count": 38,
   "id": "7e52b286",
   "metadata": {},
   "outputs": [
    {
     "name": "stderr",
     "output_type": "stream",
     "text": [
      "C:\\Users\\AliBa\\AppData\\Local\\Temp\\ipykernel_9040\\1471790956.py:4: UserWarning: \n",
      "\n",
      "`distplot` is a deprecated function and will be removed in seaborn v0.14.0.\n",
      "\n",
      "Please adapt your code to use either `displot` (a figure-level function with\n",
      "similar flexibility) or `kdeplot` (an axes-level function for kernel density plots).\n",
      "\n",
      "For a guide to updating your code to use the new functions, please see\n",
      "https://gist.github.com/mwaskom/de44147ed2974457ad6372750bbe5751\n",
      "\n",
      "  sns.distplot(x, hist=False)\n"
     ]
    },
    {
     "data": {
      "image/png": "[encoded data removed]",
      "text/plain": [
       "<Figure size 640x480 with 1 Axes>"
      ]
     },
     "metadata": {},
     "output_type": "display_data"
    }
   ],
   "source": [
    "x = random.exponential(scale=2, size=1000)\n",
    "#print(x)\n",
    "\n",
    "sns.distplot(x, hist=False)\n",
    "\n",
    "plt.show()"
   ]
  },
  {
   "cell_type": "code",
   "execution_count": null,
   "id": "8b6f6637",
   "metadata": {},
   "outputs": [],
   "source": []
  }
 ],
 "metadata": {
  "kernelspec": {
   "display_name": "Python 3 (ipykernel)",
   "language": "python",
   "name": "python3"
  },
  "language_info": {
   "codemirror_mode": {
    "name": "ipython",
    "version": 3
   },
   "file_extension": ".py",
   "mimetype": "text/x-python",
   "name": "python",
   "nbconvert_exporter": "python",
   "pygments_lexer": "ipython3",
   "version": "3.11.3"
  }
 },
 "nbformat": 4,
 "nbformat_minor": 5
}
