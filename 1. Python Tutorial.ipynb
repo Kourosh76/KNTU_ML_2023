{
 "cells": [
  {
   "cell_type": "markdown",
   "id": "ce823991",
   "metadata": {},
   "source": [
    "![](https://www.python.org/static/community_logos/python-logo-master-v3-TM.png \"Python Logo\")"
   ]
  },
  {
   "cell_type": "markdown",
   "id": "474f9d3f",
   "metadata": {},
   "source": [
    "# Outline <a class=\"anchor\" id=\"Table_of_Contents\"></a>\n",
    "* [Hello World!](#Hello_World!)\n",
    "* [Comments](#Comments)\n",
    "* [Operators](#Operators)\n",
    "    * [Arithmetic Operators](#Arithmetic_Operators)\n",
    "    * [Comparison Operators](#Comparison_Operators)\n",
    "    * [Assignment Operators](#Assignment_Operators)\n",
    "    * [Logical Operators](#Logical_Operators)\n",
    "    * [Identity Operators](#Identity_Operators)\n",
    "    * [Membership Operators](#Membership_Operators)\n",
    "* [Variables](#Variables)\n",
    "    * [Types of Variables](#Types_of_Variables)\n",
    "    * [Assign Multiple Values](#Assign_Multiple_Values)\n",
    "    * [Variables Names](#Variables_Names)\n",
    "    * [Casting](#Casting)\n",
    "    * [Strings](#Strings)\n",
    "        * [Strings Methods](#Strings_Methods)\n",
    "        * [Format Strings](#Format_Strings)\n",
    "        * [Escape Characters](#Escape_Characters)\n",
    "    * [Lists](#Lists)\n",
    "        * [Lists Methods](#Lists_Methods)\n",
    "    * [Tuples](#Tuples)\n",
    "        * [Tuples Methods](#Tuples_Methods)\n",
    "    * [Sets](#Sets)\n",
    "        * [Sets Methods](#Sets_Methods)\n",
    "    * [Dictionaries](#Dictionaries)\n",
    "        * [Dictionaries Methods](#Dictionaries_Methods)\n",
    "* [Conditional Commands](#Conditional_Commands)\n",
    "* [Loops](#Loops)\n",
    "    * [While Loop](#While_Loop)\n",
    "    * [For Loop](#For_Loop)\n",
    "* [Functions](#Functions)\n",
    "    * [Creating a Function](#Creating_a_Function)\n",
    "    * [Function Arguments](#Function_Arguments)\n",
    "        * [Number of Arguments](#Number_of_Arguments)\n",
    "        * [Arbitrary Arguments, *args](#Arbitrary_Arguments)\n",
    "        * [Keyword Arguments](#Keyword_Arguments)\n",
    "        * [Arbitrary Keyword Arguments, **kwargs](#Arbitrary_Keyword_Arguments)\n",
    "        * [Default Parameter Value](#Default_Parameter_Value)\n",
    "    * [Return Values](#Return_Values)"
   ]
  },
  {
   "cell_type": "markdown",
   "id": "ce2e820e",
   "metadata": {},
   "source": [
    "# Hello World! <a class=\"anchor\" id=\"Hello_World!\"></a> [&#11014;](#Table_of_Contents)"
   ]
  },
  {
   "cell_type": "code",
   "execution_count": 1,
   "id": "248dd0e0",
   "metadata": {},
   "outputs": [
    {
     "name": "stdout",
     "output_type": "stream",
     "text": [
      "Hello World!\n",
      "Hello World!\n",
      "Hello World!\n"
     ]
    }
   ],
   "source": [
    "print(\"Hello World!\")         # print(\"Hello World!\", end='\\n')\n",
    "print(\"Hello\", \"World!\")      # print(\"Hello\", \"World!\", sep=' ')\n",
    "print(\"Hello \" + \"World!\")"
   ]
  },
  {
   "cell_type": "markdown",
   "id": "a746fd3a",
   "metadata": {},
   "source": [
    "# Comments <a class=\"anchor\" id=\"Comments\"></a> [&#11014;](#Table_of_Contents)"
   ]
  },
  {
   "cell_type": "code",
   "execution_count": 2,
   "id": "c912c999",
   "metadata": {},
   "outputs": [
    {
     "data": {
      "text/plain": [
       "'\\nThis is a comment\\nwritten in\\nmore than just one line\\n'"
      ]
     },
     "execution_count": 2,
     "metadata": {},
     "output_type": "execute_result"
    }
   ],
   "source": [
    "# This is a single line comment.\n",
    "\n",
    "\"\"\"\n",
    "This is a comment\n",
    "written in\n",
    "more than just one line\n",
    "\"\"\""
   ]
  },
  {
   "cell_type": "markdown",
   "id": "5934cc71",
   "metadata": {},
   "source": [
    "# Operators <a class=\"anchor\" id=\"Operators\"></a> [&#11014;](#Table_of_Contents)"
   ]
  },
  {
   "cell_type": "markdown",
   "id": "1d0ede77",
   "metadata": {},
   "source": [
    "## Arithmetic Operators <a class=\"anchor\" id=\"Arithmetic_Operators\"></a> [&#11014;](#Table_of_Contents)"
   ]
  },
  {
   "cell_type": "markdown",
   "id": "9d1ad18c",
   "metadata": {},
   "source": [
    "| Operator | Name |\n",
    "| :- | :- |\n",
    "| `+` | Addition |\n",
    "| `-` | Subtraction |\n",
    "| `*` | Multiplication |\n",
    "| `/` | Division |\n",
    "| `%` | Modulus |\n",
    "| `**` | Exponentiation |\n",
    "| `//` | Floor division |"
   ]
  },
  {
   "cell_type": "code",
   "execution_count": 3,
   "id": "27755651",
   "metadata": {},
   "outputs": [
    {
     "name": "stdout",
     "output_type": "stream",
     "text": [
      "5 + 3 = 8\n",
      "5 - 3 = 2\n",
      "5 * 3 = 15\n",
      "12 / 3 = 4.0\n",
      "15 // 2 = 7\n",
      "5 % 2 = 1\n",
      "2 ** 5 = 32\n"
     ]
    }
   ],
   "source": [
    "print('5 + 3 =', 5 + 3)        # addition\n",
    "\n",
    "print('5 - 3 =', 5 - 3)        # subtraction\n",
    "\n",
    "print('5 * 3 =', 5 * 3)        # multiplication\n",
    "\n",
    "print('12 / 3 =', 12 / 3)      # division\n",
    "\n",
    "print('15 // 2 =', 15 // 2)    # floor division\n",
    "\n",
    "print('5 % 2 =', 5 % 2)        # modulus\n",
    "\n",
    "print('2 ** 5 =', 2 ** 5)      # exponentiation"
   ]
  },
  {
   "cell_type": "markdown",
   "id": "c6d647e7",
   "metadata": {},
   "source": [
    "<div class=\"alert alert-block alert-info\">\n",
    "\n",
    "the floor division `//` rounds the result down to the nearest whole number\n",
    "</div>"
   ]
  },
  {
   "cell_type": "code",
   "execution_count": 4,
   "id": "87496feb",
   "metadata": {},
   "outputs": [
    {
     "name": "stdout",
     "output_type": "stream",
     "text": [
      "Ali Bagheri\n",
      "**********\n"
     ]
    }
   ],
   "source": [
    "print('Ali ' + 'Bagheri')\n",
    "\n",
    "print('*' * 10)"
   ]
  },
  {
   "cell_type": "markdown",
   "id": "71d196e8",
   "metadata": {},
   "source": [
    "## Comparison Operators <a class=\"anchor\" id=\"Comparison_Operators\"></a> [&#11014;](#Table_of_Contents)"
   ]
  },
  {
   "cell_type": "markdown",
   "id": "5a7ffcca",
   "metadata": {},
   "source": [
    "| Operator | Name |\n",
    "| :- | :- |\n",
    "| `==` | Equal |\n",
    "| `!=` | Not equal |\n",
    "| `>` | Greater than |\n",
    "| `<` | Less than |\n",
    "| `>=` | Greater than or equal to |\n",
    "| `<=` | Less than or equal to |\n"
   ]
  },
  {
   "cell_type": "code",
   "execution_count": 5,
   "id": "7ff59b02",
   "metadata": {},
   "outputs": [
    {
     "name": "stdout",
     "output_type": "stream",
     "text": [
      "5 = 3? False\n",
      "5 != 3? True\n",
      "5 > 3? True\n",
      "5 < 3? False\n",
      "5 >= 3? True\n",
      "5 <= 3? False\n"
     ]
    }
   ],
   "source": [
    "print('5 = 3?', 5 == 3)     # equal\n",
    "\n",
    "print('5 != 3?', 5 != 3)    # not equal\n",
    "\n",
    "print('5 > 3?', 5 > 3)      # greater than\n",
    "\n",
    "print('5 < 3?', 5 < 3)      # less than\n",
    "\n",
    "print('5 >= 3?', 5 >= 3)    # greater than or equal to\n",
    "\n",
    "print('5 <= 3?', 5 <= 3)    # less than or equal to"
   ]
  },
  {
   "cell_type": "markdown",
   "id": "96fde3ec",
   "metadata": {},
   "source": [
    "## Assignment Operators <a class=\"anchor\" id=\"Assignment_Operators\"></a> [&#11014;](#Table_of_Contents)"
   ]
  },
  {
   "cell_type": "code",
   "execution_count": 6,
   "id": "349e4082",
   "metadata": {},
   "outputs": [
    {
     "name": "stdout",
     "output_type": "stream",
     "text": [
      "8\n",
      "5\n",
      "15\n",
      "3375\n",
      "1125.0\n",
      "375.0\n",
      "0.0\n"
     ]
    }
   ],
   "source": [
    "x = 5\n",
    "\n",
    "x += 3     # x = x + 3 = 5 + 3 = 8\n",
    "print(x)\n",
    "\n",
    "x -= 3     # x = x - 3 = 8 - 3 = 5\n",
    "print(x)\n",
    "\n",
    "x *= 3     # x = x * 3 = 5 * 3 = 15\n",
    "print(x)\n",
    "\n",
    "x **= 3    # x = x ** 3 = 15 ** 3 = 3375\n",
    "print(x)\n",
    "\n",
    "x /= 3     # x = x / 3 = 3375 / 3 = 1125.0\n",
    "print(x)\n",
    "\n",
    "x //= 3    # x = x // 3 = 1125 // 3 = 375.0\n",
    "print(x)\n",
    "\n",
    "x %= 3     # x = x % 3 = 375.0 % 3 = 0.0\n",
    "print(x)"
   ]
  },
  {
   "cell_type": "markdown",
   "id": "87cf8fa5",
   "metadata": {},
   "source": [
    "## Logical Operators <a class=\"anchor\" id=\"Logical_Operators\"></a> [&#11014;](#Table_of_Contents)"
   ]
  },
  {
   "cell_type": "markdown",
   "id": "0eacf84a",
   "metadata": {},
   "source": [
    "| Operator | Description |\n",
    "| :- | :- |\n",
    "| `and` | Returns `True` if both statements are true | \n",
    "| `or` | Returns `True` if one of the statements is true |\n",
    "| `not` | Reverse the result, returns `False` if the result is true |"
   ]
  },
  {
   "cell_type": "code",
   "execution_count": 7,
   "id": "19513b39",
   "metadata": {},
   "outputs": [
    {
     "name": "stdout",
     "output_type": "stream",
     "text": [
      "True\n",
      "True\n",
      "False\n"
     ]
    }
   ],
   "source": [
    "x = 5\n",
    "\n",
    "print(x > 3 and x < 10)\n",
    "print(x > 3 or x < 4)\n",
    "print(not(x > 3 and x < 10))"
   ]
  },
  {
   "cell_type": "markdown",
   "id": "bec637a9",
   "metadata": {},
   "source": [
    "## Identity Operators <a class=\"anchor\" id=\"Identity_Operators\"></a> [&#11014;](#Table_of_Contents)"
   ]
  },
  {
   "cell_type": "markdown",
   "id": "91605942",
   "metadata": {},
   "source": [
    "| Operator | Description |\n",
    "| :- | :- |\n",
    "| `is` | Returns `True` if both variables are the same object |\n",
    "| `is not` | Returns `True` if both variables are not the same object |"
   ]
  },
  {
   "cell_type": "code",
   "execution_count": 8,
   "id": "ecf198e9",
   "metadata": {},
   "outputs": [
    {
     "name": "stdout",
     "output_type": "stream",
     "text": [
      "True\n",
      "False\n",
      "True\n",
      "\n",
      "False\n",
      "True\n",
      "False\n"
     ]
    }
   ],
   "source": [
    "x = [\"apple\", \"banana\"]\n",
    "y = [\"apple\", \"banana\"]\n",
    "z = x\n",
    "\n",
    "# returns True because z is the same object as x\n",
    "print(x is z)\n",
    "\n",
    "# returns False because x is not the same object as y,\n",
    "# even if they have the same content\n",
    "print(x is y)    \n",
    "\n",
    "# to demonstrate the difference betweeen \"is\" and \"==\":\n",
    "# this comparison returns True because x is equal to y\n",
    "print(x == y)\n",
    "\n",
    "print()\n",
    "\n",
    "# returns False because z is the same object as x\n",
    "print(x is not z)\n",
    "\n",
    "# returns True because x is not the same object as y,\n",
    "# even if they have the same content\n",
    "print(x is not y)\n",
    "\n",
    "# to demonstrate the difference betweeen \"is not\" and \"!=\":\n",
    "# this comparison returns False because x is equal to y\n",
    "print(x != y)"
   ]
  },
  {
   "cell_type": "markdown",
   "id": "95457dc8",
   "metadata": {},
   "source": [
    "## Membership Operators <a class=\"anchor\" id=\"Membership_Operators\"></a> [&#11014;](#Table_of_Contents)"
   ]
  },
  {
   "cell_type": "markdown",
   "id": "7804f1cc",
   "metadata": {},
   "source": [
    "| Operator | Description |\n",
    "| :- | :- |\n",
    "| `in` | Returns `True` if a sequence with the specified value is present in the object |\n",
    "| `not in` | Returns `True` if a sequence with the specified value is not present in the object |"
   ]
  },
  {
   "cell_type": "code",
   "execution_count": 9,
   "id": "4876a678",
   "metadata": {},
   "outputs": [
    {
     "name": "stdout",
     "output_type": "stream",
     "text": [
      "True\n",
      "True\n"
     ]
    }
   ],
   "source": [
    "x = [\"apple\", \"banana\"]\n",
    "\n",
    "print(\"banana\" in x)\n",
    "print(\"pineapple\" not in x)"
   ]
  },
  {
   "cell_type": "markdown",
   "id": "b20e63ca",
   "metadata": {},
   "source": [
    "<div class=\"alert alert-block alert-info\">\n",
    "\n",
    "The precedence of operators in Python is the same as the precedence of operators in normal mathematical calculations.\n",
    "</div>"
   ]
  },
  {
   "cell_type": "markdown",
   "id": "4a06d4f1",
   "metadata": {},
   "source": [
    "# Variables <a class=\"anchor\" id=\"Variables\"></a> [&#11014;](#Table_of_Contents)"
   ]
  },
  {
   "cell_type": "markdown",
   "id": "513cac04",
   "metadata": {},
   "source": [
    "## Types of Variables <a class=\"anchor\" id=\"Types_of_Variables\"></a> [&#11014;](#Table_of_Contents)"
   ]
  },
  {
   "cell_type": "code",
   "execution_count": 10,
   "id": "afa0c84a",
   "metadata": {},
   "outputs": [
    {
     "name": "stdout",
     "output_type": "stream",
     "text": [
      "S1 is Qorpi\n",
      "The type of variable S1 is <class 'str'>\n"
     ]
    }
   ],
   "source": [
    "# string\n",
    "S1 = 'Qorpi'\n",
    "\n",
    "print('S1 is', S1)\n",
    "print('The type of variable S1 is', type(S1))"
   ]
  },
  {
   "cell_type": "code",
   "execution_count": 11,
   "id": "9211f6de",
   "metadata": {},
   "outputs": [
    {
     "name": "stdout",
     "output_type": "stream",
     "text": [
      "S2 is Qorpi\n",
      "The type of variable S2 is <class 'str'>\n"
     ]
    }
   ],
   "source": [
    "# string\n",
    "S2 = \"Qorpi\"\n",
    "\n",
    "print('S2 is', S2)\n",
    "print('The type of variable S2 is', type(S2))"
   ]
  },
  {
   "cell_type": "code",
   "execution_count": 12,
   "id": "93d94464",
   "metadata": {},
   "outputs": [
    {
     "name": "stdout",
     "output_type": "stream",
     "text": [
      "I1 is 349\n",
      "The type of variable I1 is <class 'int'>\n"
     ]
    }
   ],
   "source": [
    "# integer number\n",
    "I1 = 349\n",
    "\n",
    "print('I1 is', I1)\n",
    "print('The type of variable I1 is', type(I1))"
   ]
  },
  {
   "cell_type": "code",
   "execution_count": 13,
   "id": "5fc479a4",
   "metadata": {},
   "outputs": [
    {
     "name": "stdout",
     "output_type": "stream",
     "text": [
      "I2 is -80\n",
      "The type of variable I2 is <class 'int'>\n"
     ]
    }
   ],
   "source": [
    "# integer number\n",
    "I2 = -80\n",
    "\n",
    "print('I2 is', I2)\n",
    "print('The type of variable I2 is', type(I2))"
   ]
  },
  {
   "cell_type": "code",
   "execution_count": 14,
   "id": "34e79a6b",
   "metadata": {},
   "outputs": [
    {
     "name": "stdout",
     "output_type": "stream",
     "text": [
      "pi is 3.14\n",
      "The type of variable pi is <class 'float'>\n"
     ]
    }
   ],
   "source": [
    "# float number\n",
    "pi = 3.14\n",
    "\n",
    "print('pi is', pi)\n",
    "print('The type of variable pi is', type(pi))"
   ]
  },
  {
   "cell_type": "code",
   "execution_count": 15,
   "id": "2fe3b20b",
   "metadata": {},
   "outputs": [
    {
     "name": "stdout",
     "output_type": "stream",
     "text": [
      "C is (2+3j)\n",
      "The type of variable C is <class 'complex'>\n"
     ]
    }
   ],
   "source": [
    "# complex number\n",
    "C = 2+3j\n",
    "\n",
    "print('C is', C)\n",
    "print('The type of variable C is', type(C))"
   ]
  },
  {
   "cell_type": "code",
   "execution_count": 16,
   "id": "f1440848",
   "metadata": {},
   "outputs": [
    {
     "name": "stdout",
     "output_type": "stream",
     "text": [
      "B1 is True\n",
      "The type of variable B1 is <class 'bool'>\n"
     ]
    }
   ],
   "source": [
    "# boolean\n",
    "B1 = True\n",
    "\n",
    "print('B1 is', B1)\n",
    "print('The type of variable B1 is', type(B1))"
   ]
  },
  {
   "cell_type": "code",
   "execution_count": 17,
   "id": "6f527482",
   "metadata": {},
   "outputs": [
    {
     "name": "stdout",
     "output_type": "stream",
     "text": [
      "B2 is False\n",
      "The type of variable B2 is <class 'bool'>\n"
     ]
    }
   ],
   "source": [
    "# boolean\n",
    "B2 = False\n",
    "\n",
    "print('B2 is', B2)\n",
    "print('The type of variable B2 is', type(B2))"
   ]
  },
  {
   "cell_type": "code",
   "execution_count": 18,
   "id": "db0ee06e",
   "metadata": {},
   "outputs": [
    {
     "name": "stdout",
     "output_type": "stream",
     "text": [
      "l1 = l2? True\n",
      "l1 is [1, 2, 3, 4]\n",
      "The type of variable l1 and l2 is <class 'list'>\n"
     ]
    }
   ],
   "source": [
    "# list\n",
    "l1 = [1,2,3,4]\n",
    "l2 = list((1,2,3,4))\n",
    "\n",
    "print('l1 = l2?', l1 == l2)\n",
    "print('l1 is', l1)\n",
    "print('The type of variable l1 and l2 is', type(l1))"
   ]
  },
  {
   "cell_type": "code",
   "execution_count": 19,
   "id": "042d93c2",
   "metadata": {},
   "outputs": [
    {
     "name": "stdout",
     "output_type": "stream",
     "text": [
      "t1 = t2? True\n",
      "t1 is (1, 2, 3, 4)\n",
      "The type of variable t1 and t2 is <class 'tuple'>\n"
     ]
    }
   ],
   "source": [
    "# tuple\n",
    "t1 = (1,2,3,4)\n",
    "t2 = tuple((1,2,3,4))\n",
    "\n",
    "print('t1 = t2?', t1 == t2)\n",
    "print('t1 is', t1)\n",
    "print('The type of variable t1 and t2 is', type(t1))"
   ]
  },
  {
   "cell_type": "code",
   "execution_count": 20,
   "id": "91f7cddd",
   "metadata": {},
   "outputs": [
    {
     "name": "stdout",
     "output_type": "stream",
     "text": [
      "s1 = s2? True\n",
      "s1 is {1, 2, 3, 4}\n",
      "The type of variable s1 and s2 is <class 'set'>\n"
     ]
    }
   ],
   "source": [
    "# set\n",
    "s1 = {1,2,3,4}\n",
    "s2 = set((1,2,3,4))\n",
    "\n",
    "print('s1 = s2?', s1 == s2)\n",
    "print('s1 is', s1)\n",
    "print('The type of variable s1 and s2 is', type(s1))"
   ]
  },
  {
   "cell_type": "code",
   "execution_count": 21,
   "id": "10b20ec0",
   "metadata": {},
   "outputs": [
    {
     "name": "stdout",
     "output_type": "stream",
     "text": [
      "d1 = d2? True\n",
      "d1 is {'Ali': 24, 'Mohammad': 27}\n",
      "The type of variable d1 and d2 is <class 'dict'>\n"
     ]
    }
   ],
   "source": [
    "# dictionary\n",
    "d1 = {'Ali': 24, 'Mohammad': 27}\n",
    "d2 = dict(Ali=24, Mohammad=27)\n",
    "\n",
    "print('d1 = d2?', d1 == d2)\n",
    "print('d1 is', d1)\n",
    "print('The type of variable d1 and d2 is', type(d1))"
   ]
  },
  {
   "cell_type": "markdown",
   "id": "53dc90de",
   "metadata": {},
   "source": [
    "We can also get input from the user using the ‍`input‍‍‍` ‍command as follows:"
   ]
  },
  {
   "cell_type": "code",
   "execution_count": 22,
   "id": "de9c988e",
   "metadata": {},
   "outputs": [
    {
     "name": "stdout",
     "output_type": "stream",
     "text": [
      "x is 5\n",
      "The type of variable x is <class 'str'>\n"
     ]
    }
   ],
   "source": [
    "x = input(\"Please enter your variable: \")\n",
    "\n",
    "print('x is', x)\n",
    "print('The type of variable x is', type(x))"
   ]
  },
  {
   "cell_type": "markdown",
   "id": "cbf695fa",
   "metadata": {},
   "source": [
    "## Assign Multiple Values <a class=\"anchor\" id=\"Assign_Multiple_Values\"></a> [&#11014;](#Table_of_Contents)"
   ]
  },
  {
   "cell_type": "code",
   "execution_count": 23,
   "id": "c2ed073c",
   "metadata": {},
   "outputs": [
    {
     "name": "stdout",
     "output_type": "stream",
     "text": [
      "x is Orange\n",
      "y is Banana\n",
      "z is Cherry\n"
     ]
    }
   ],
   "source": [
    "x, y, z = \"Orange\", \"Banana\", \"Cherry\"\n",
    "\n",
    "print('x is', x)\n",
    "print('y is', y)\n",
    "print('z is', z)"
   ]
  },
  {
   "cell_type": "code",
   "execution_count": 24,
   "id": "02b86830",
   "metadata": {},
   "outputs": [
    {
     "name": "stdout",
     "output_type": "stream",
     "text": [
      "x is Orange\n",
      "y is Orange\n",
      "z is Orange\n"
     ]
    }
   ],
   "source": [
    "x = y = z = \"Orange\"\n",
    "\n",
    "print('x is', x)\n",
    "print('y is', y)\n",
    "print('z is', z)"
   ]
  },
  {
   "cell_type": "code",
   "execution_count": 25,
   "id": "fb4e8138",
   "metadata": {},
   "outputs": [
    {
     "name": "stdout",
     "output_type": "stream",
     "text": [
      "x is Apple\n",
      "y is Banana\n",
      "z is Cherry\n"
     ]
    }
   ],
   "source": [
    "fruits = [\"Apple\", \"Banana\", \"Cherry\"]\n",
    "x, y, z = fruits\n",
    "\n",
    "print('x is', x)\n",
    "print('y is', y)\n",
    "print('z is', z)"
   ]
  },
  {
   "cell_type": "markdown",
   "id": "7dc2ecdc",
   "metadata": {},
   "source": [
    "## Variables Names <a class=\"anchor\" id=\"Variables_Names\"></a> [&#11014;](#Table_of_Contents)"
   ]
  },
  {
   "cell_type": "markdown",
   "id": "e9cb61c9",
   "metadata": {},
   "source": [
    "Rules for Python variables:\n",
    "\n",
    "- A variable name must start with a letter or the underscore character\n",
    "- A variable name cannot start with a number\n",
    "- A variable name can only contain alpha-numeric characters and underscores (A-z, 0-9, and _ )\n",
    "- Variable names are case-sensitive (age, Age and AGE are three different variables)"
   ]
  },
  {
   "cell_type": "markdown",
   "id": "8f47a911",
   "metadata": {},
   "source": [
    "<div class=\"alert alert-block alert-info\">\n",
    "\n",
    "In Python, there are a number of [keywords](https://docs.python.org/3/reference/lexical_analysis.html#keywords \"Python keywords\") and a number of [built-in functions](https://docs.python.org/3/library/functions.html#built-in-functions \"Python built-in functions\"), each of which has important uses in Python. When choosing names for variables, we should not use these names, because this will destroy their original use.\n",
    "</div>"
   ]
  },
  {
   "cell_type": "code",
   "execution_count": 26,
   "id": "1a9fa496",
   "metadata": {},
   "outputs": [],
   "source": [
    "# Legal variable names\n",
    "\n",
    "myVariableName = 'Ali'        # Camel Case\n",
    "MyVariableName = 'Bagheri'    # Pascal Case\n",
    "my_variable_name = 1998       # Snake Case\n",
    "\n",
    "myvariablename = \"Ali\"\n",
    "_my_variable_name = \"Bagheri\"\n",
    "MYVAR = 1998\n",
    "myvar2 = 25.5"
   ]
  },
  {
   "cell_type": "markdown",
   "id": "799023ed",
   "metadata": {},
   "source": [
    "## Casting <a class=\"anchor\" id=\"Casting\"></a> [&#11014;](#Table_of_Contents)"
   ]
  },
  {
   "cell_type": "code",
   "execution_count": 27,
   "id": "e6c2f2fa",
   "metadata": {},
   "outputs": [
    {
     "name": "stdout",
     "output_type": "stream",
     "text": [
      "i is 1\n",
      "The type of variable i is <class 'int'> \n",
      "\n",
      "f is 1.0\n",
      "The type of variable f is <class 'float'> \n",
      "\n",
      "s is 1\n",
      "The type of variable s is <class 'str'> \n",
      "\n",
      "b0 is False\n",
      "The type of variable b0 is <class 'bool'> \n",
      "\n",
      "b1 is True\n",
      "The type of variable b1 is <class 'bool'> \n",
      "\n",
      "c is (1+0j)\n",
      "The type of variable c is <class 'complex'>\n"
     ]
    }
   ],
   "source": [
    "i = int(1)\n",
    "f = float(1)\n",
    "s = str(1)\n",
    "b0 = bool(0)\n",
    "b1 = bool(1)\n",
    "c = complex(1)\n",
    "\n",
    "print('i is', i)\n",
    "print('The type of variable i is', type(i), '\\n')\n",
    "print('f is', f)\n",
    "print('The type of variable f is', type(f), '\\n')\n",
    "print('s is', s)\n",
    "print('The type of variable s is', type(s), '\\n')\n",
    "print('b0 is', b0)\n",
    "print('The type of variable b0 is', type(b0), '\\n')\n",
    "print('b1 is', b1)\n",
    "print('The type of variable b1 is', type(b1), '\\n')\n",
    "print('c is', c)\n",
    "print('The type of variable c is', type(c))"
   ]
  },
  {
   "cell_type": "markdown",
   "id": "56acc22e",
   "metadata": {},
   "source": [
    "<div class=\"alert alert-block alert-info\">\n",
    "\n",
    "In `bool` function, almost any value is evaluated to `True` if it has some sort of content:\n",
    "    \n",
    "- Any string is `True`, except empty strings.\n",
    "    \n",
    "- Any number is `True`, except `0`.\n",
    "    \n",
    "- Any list, tuple, set, and dictionary are `True`, except empty ones.\n",
    "    \n",
    "In fact, there are not many values that evaluate to `False`, except empty values, such as `()`, `[]`, `{}`, `\"\"`, the number `0`, and the value `None`. And of course the value `False` evaluates to `False`.\n",
    "</div>"
   ]
  },
  {
   "cell_type": "markdown",
   "id": "db904640",
   "metadata": {},
   "source": [
    "The following will return `False`:"
   ]
  },
  {
   "cell_type": "code",
   "execution_count": 28,
   "id": "a88df510",
   "metadata": {},
   "outputs": [
    {
     "name": "stdout",
     "output_type": "stream",
     "text": [
      "False\n",
      "False\n",
      "False\n",
      "False\n",
      "False\n",
      "False\n",
      "False\n"
     ]
    }
   ],
   "source": [
    "print(bool(False))\n",
    "\n",
    "print(bool(None))\n",
    "\n",
    "print(bool(0))\n",
    "\n",
    "print(bool(\"\"))\n",
    "\n",
    "print(bool(()))\n",
    "\n",
    "print(bool([]))\n",
    "\n",
    "print(bool({}))"
   ]
  },
  {
   "cell_type": "markdown",
   "id": "cff0a943",
   "metadata": {},
   "source": [
    "<div class=\"alert alert-block alert-info\">\n",
    "    \n",
    "Python also has many built-in functions that return a boolean value, like the `isinstance()` function, which can be used to determine if an object is of a certain data type:\n",
    "</div>"
   ]
  },
  {
   "cell_type": "code",
   "execution_count": 29,
   "id": "810f15bc",
   "metadata": {},
   "outputs": [
    {
     "name": "stdout",
     "output_type": "stream",
     "text": [
      "True\n"
     ]
    }
   ],
   "source": [
    "x = 200\n",
    "\n",
    "print(isinstance(x, int))    # it is same as type(x) == int"
   ]
  },
  {
   "cell_type": "code",
   "execution_count": 30,
   "id": "ec80b64b",
   "metadata": {},
   "outputs": [
    {
     "name": "stdout",
     "output_type": "stream",
     "text": [
      "x is (1, 2, 3, 4)\n",
      "The type of variable x is <class 'tuple'>\n"
     ]
    }
   ],
   "source": [
    "x = (1,2,3,4)\n",
    "\n",
    "print('x is', x)\n",
    "print('The type of variable x is', type(x))"
   ]
  },
  {
   "cell_type": "code",
   "execution_count": 31,
   "id": "d0c7467b",
   "metadata": {},
   "outputs": [
    {
     "name": "stdout",
     "output_type": "stream",
     "text": [
      "l is [1, 2, 3, 4]\n",
      "The type of variable l is <class 'list'> \n",
      "\n",
      "s is {1, 2, 3, 4}\n",
      "The type of variable s is <class 'set'>\n"
     ]
    }
   ],
   "source": [
    "l = list(x)\n",
    "print('l is', l)\n",
    "print('The type of variable l is', type(l), '\\n')\n",
    "\n",
    "s = set(x)\n",
    "print('s is', s)\n",
    "print('The type of variable s is', type(s))"
   ]
  },
  {
   "cell_type": "markdown",
   "id": "ece7c206",
   "metadata": {},
   "source": [
    "## Strings <a class=\"anchor\" id=\"Strings\"></a> [&#11014;](#Table_of_Contents)"
   ]
  },
  {
   "cell_type": "code",
   "execution_count": 32,
   "id": "8b4ff0a9",
   "metadata": {},
   "outputs": [
    {
     "name": "stdout",
     "output_type": "stream",
     "text": [
      "s1 is  This is a single line string variable. \n",
      "s2 is This is a\n",
      "multiline string variable.\n"
     ]
    }
   ],
   "source": [
    "s1 = \" This is a single line string variable. \"\n",
    "s2 = \"\"\"This is a\n",
    "multiline string variable.\"\"\"\n",
    "\n",
    "print(\"s1 is\", s1)\n",
    "print(\"s2 is\", s2)"
   ]
  },
  {
   "cell_type": "markdown",
   "id": "88897504",
   "metadata": {},
   "source": [
    "<div class=\"alert alert-block alert-info\">\n",
    "\n",
    "in the result, the line breaks are inserted at the same position as in the code.\n",
    "</div>"
   ]
  },
  {
   "cell_type": "code",
   "execution_count": 33,
   "id": "67e2b042",
   "metadata": {},
   "outputs": [
    {
     "name": "stdout",
     "output_type": "stream",
     "text": [
      "s is  Introduction to Python  \n",
      "\n",
      "s[:] is  Introduction to Python  \n",
      "\n",
      "s[1] is I \n",
      "\n",
      "s[-1] is   \n",
      "\n",
      "s[13:15] is  t \n",
      "\n",
      "s[16:] is  Python  \n",
      "\n",
      "s[:6] is  Intro \n",
      "\n",
      "s[1:4:2] is It \n",
      "\n",
      "s[::-1] is  nohtyP ot noitcudortnI  \n",
      "\n",
      "s[-9:-2] is o Pytho\n"
     ]
    }
   ],
   "source": [
    "s = \" Introduction to Python \"\n",
    "\n",
    "print(\"s is\", s, '\\n')\n",
    "\n",
    "print(\"s[:] is\", s[:], '\\n')\n",
    "\n",
    "print(\"s[1] is\", s[1], '\\n')\n",
    "\n",
    "print(\"s[-1] is\", s[-1], '\\n')\n",
    "\n",
    "# s[start:end:step] (default: step=1)\n",
    "\n",
    "print(\"s[13:15] is\", s[13:15], '\\n')\n",
    "\n",
    "print(\"s[16:] is\", s[16:], '\\n')\n",
    "\n",
    "print(\"s[:6] is\", s[:6], '\\n')\n",
    "\n",
    "print(\"s[1:4:2] is\", s[1:4:2], '\\n')\n",
    "\n",
    "print(\"s[::-1] is\", s[::-1], '\\n')\n",
    "\n",
    "print(\"s[-9:-2] is\", s[-9:-2])"
   ]
  },
  {
   "cell_type": "markdown",
   "id": "fa141050",
   "metadata": {},
   "source": [
    "<div class=\"alert alert-block alert-info\">\n",
    "\n",
    "String items, doesn't changeable. In fact, string objects is *immutable*.\n",
    "</div>"
   ]
  },
  {
   "cell_type": "code",
   "execution_count": 34,
   "id": "d91708d2",
   "metadata": {},
   "outputs": [
    {
     "ename": "TypeError",
     "evalue": "'str' object does not support item assignment",
     "output_type": "error",
     "traceback": [
      "\u001b[1;31m---------------------------------------------------------------------------\u001b[0m",
      "\u001b[1;31mTypeError\u001b[0m                                 Traceback (most recent call last)",
      "\u001b[1;32mc:\\Users\\AliBa\\Desktop\\automate the boring stuff\\Python Tutorial.ipynb Cell 66\u001b[0m line \u001b[0;36m1\n\u001b[1;32m----> <a href='vscode-notebook-cell:/c%3A/Users/AliBa/Desktop/automate%20the%20boring%20stuff/Python%20Tutorial.ipynb#Y122sZmlsZQ%3D%3D?line=0'>1</a>\u001b[0m s[\u001b[39m0\u001b[39;49m] \u001b[39m=\u001b[39m \u001b[39m\"\u001b[39m\u001b[39m\"\u001b[39m\n\u001b[0;32m      <a href='vscode-notebook-cell:/c%3A/Users/AliBa/Desktop/automate%20the%20boring%20stuff/Python%20Tutorial.ipynb#Y122sZmlsZQ%3D%3D?line=2'>3</a>\u001b[0m \u001b[39mprint\u001b[39m(s)\n",
      "\u001b[1;31mTypeError\u001b[0m: 'str' object does not support item assignment"
     ]
    }
   ],
   "source": [
    "s[0] = \"\"\n",
    "\n",
    "print(s)"
   ]
  },
  {
   "cell_type": "code",
   "execution_count": 35,
   "id": "170680e9",
   "metadata": {},
   "outputs": [
    {
     "name": "stdout",
     "output_type": "stream",
     "text": [
      "False\n",
      "True\n",
      "True\n"
     ]
    }
   ],
   "source": [
    "print('python' in s)\n",
    "print('Python' in s)\n",
    "print('python' not in s)"
   ]
  },
  {
   "cell_type": "code",
   "execution_count": 36,
   "id": "e5780739",
   "metadata": {},
   "outputs": [
    {
     "name": "stdout",
     "output_type": "stream",
     "text": [
      "The length of variable s is 24\n"
     ]
    }
   ],
   "source": [
    "print(\"The length of variable s is\", len(s))"
   ]
  },
  {
   "cell_type": "markdown",
   "id": "7eb52a1d",
   "metadata": {},
   "source": [
    "### Strings Methods <a class=\"anchor\" id=\"Strings_Methods\"></a> [&#11014;](#Table_of_Contents)"
   ]
  },
  {
   "cell_type": "markdown",
   "id": "a3efd1ab",
   "metadata": {},
   "source": [
    "| Method | Description |\n",
    "| :- | :- |\n",
    "| `capitalize()` | Converts the first character to upper case |\n",
    "| `casefold()` | Converts string into lower case |\n",
    "| `center()` | Returns a centered string |\n",
    "| `count()` | Returns the number of times a specified value occurs in a string |\n",
    "| `encode()` | Returns an encoded version of the string |\n",
    "| `endswith()` | Returns true if the string ends with the specified value |\n",
    "| `expandtabs()` | Sets the tab size of the string |\n",
    "| `find()` | Searches the string for a specified value and returns the position of where it was found |\n",
    "| `format()` | Formats specified values in a string |\n",
    "| `format_map()` | Formats specified values in a string |\n",
    "| `index()` | Searches the string for a specified value and returns the position of where it was found |\n",
    "| `isalnum()` | Returns True if all characters in the string are alphanumeric |\n",
    "| `isalpha()` | Returns True if all characters in the string are in the alphabet |\n",
    "| `isascii()` | Returns True if all characters in the string are ascii characters |\n",
    "| `isdecimal()` | Returns True if all characters in the string are decimals |\n",
    "| `isdigit()` | Returns True if all characters in the string are digits |\n",
    "| `isidentifier()` | Returns True if the string is an identifier |\n",
    "| `islower()` | Returns True if all characters in the string are lower case |\n",
    "| `isnumeric()` | Returns True if all characters in the string are numeric |\n",
    "| `isprintable()` | Returns True if all characters in the string are printable |\n",
    "| `isspace()` | Returns True if all characters in the string are whitespaces |\n",
    "| `istitle()` | Returns True if the string follows the rules of a title |\n",
    "| `isupper()` | Returns True if all characters in the string are upper case |\n",
    "| `join()` | Converts the elements of an iterable into a string |\n",
    "| `ljust()` | Returns a left justified version of the string |\n",
    "| `lower()` | Converts a string into lower case |\n",
    "| `lstrip()` | Returns a left trim version of the string |\n",
    "| `maketrans()` | Returns a translation table to be used in translations |\n",
    "| `partition()` | Returns a tuple where the string is parted into three parts |\n",
    "| `replace()` | Returns a string where a specified value is replaced with a specified value |\n",
    "| `rfind()` | Searches the string for a specified value and returns the last position of where it was found |\n",
    "| `rindex()` | Searches the string for a specified value and returns the last position of where it was found |\n",
    "| `rjust()` | Returns a right justified version of the string |\n",
    "| `rpartition()` | Returns a tuple where the string is parted into three parts |\n",
    "| `rsplit()` | Splits the string at the specified separator, and returns a list |\n",
    "| `rstrip()` | Returns a right trim version of the string |\n",
    "| `split()` | Splits the string at the specified separator, and returns a list |\n",
    "| `splitlines()` | Splits the string at line breaks and returns a list |\n",
    "| `startswith()` | Returns true if the string starts with the specified value |\n",
    "| `strip()` | Returns a trimmed version of the string |\n",
    "| `swapcase()` | Swaps cases, lower case becomes upper case and vice versa |\n",
    "| `title()` | Converts the first character of each word to upper case |\n",
    "| `translate()` | Returns a translated string |\n",
    "| `upper()` | Converts a string into upper case |\n",
    "| `zfill()` | Fills the string with a specified number of 0 values at the beginning |"
   ]
  },
  {
   "cell_type": "markdown",
   "id": "6cba8fe8",
   "metadata": {},
   "source": [
    "<div class=\"alert alert-block alert-info\">\n",
    "\n",
    "All string methods return new values. They do not change the original string.\n",
    "</div>"
   ]
  },
  {
   "cell_type": "code",
   "execution_count": 37,
   "id": "6240483b",
   "metadata": {},
   "outputs": [
    {
     "name": "stdout",
     "output_type": "stream",
     "text": [
      " INTRODUCTION TO PYTHON \n",
      " introduction to python \n"
     ]
    }
   ],
   "source": [
    "print(s.upper())    # converts string s into upper case\n",
    "print(s.lower())    # converts string s into lower case"
   ]
  },
  {
   "cell_type": "code",
   "execution_count": 38,
   "id": "a6c873e8",
   "metadata": {},
   "outputs": [
    {
     "name": "stdout",
     "output_type": "stream",
     "text": [
      "Introduction to Python\n",
      "Introduction to Python \n",
      " Introduction to Python\n"
     ]
    }
   ],
   "source": [
    "# removes any whitespace from the beginning or the end of string s\n",
    "print(s.strip())\n",
    "\n",
    "# removes any whitespace from the beginning of string s\n",
    "print(s.lstrip())\n",
    "\n",
    "# removes any whitespace from the end of string s\n",
    "print(s.rstrip())"
   ]
  },
  {
   "cell_type": "code",
   "execution_count": 39,
   "id": "8cee1baa",
   "metadata": {},
   "outputs": [
    {
     "name": "stdout",
     "output_type": "stream",
     "text": [
      " Introduction to python \n"
     ]
    }
   ],
   "source": [
    "print(s.replace('P', 'p'))    # returns string s that P is replaced with p"
   ]
  },
  {
   "cell_type": "code",
   "execution_count": 40,
   "id": "a606e2b5",
   "metadata": {},
   "outputs": [
    {
     "name": "stdout",
     "output_type": "stream",
     "text": [
      "['', 'Introduction', 'to', 'Python', '']\n"
     ]
    }
   ],
   "source": [
    "# splits string s at the specified separator, and returns a list\n",
    "print(s.split(' '))"
   ]
  },
  {
   "cell_type": "code",
   "execution_count": 41,
   "id": "2afb0934",
   "metadata": {},
   "outputs": [
    {
     "name": "stdout",
     "output_type": "stream",
     "text": [
      "0\n",
      "1\n"
     ]
    }
   ],
   "source": [
    "# returns the number of times that character p occurs in string s\n",
    "print(s.count('p'))\n",
    "\n",
    "# returns the number of times that character P occurs in string s\n",
    "print(s.count('P'))"
   ]
  },
  {
   "cell_type": "code",
   "execution_count": 42,
   "id": "3832ad93",
   "metadata": {},
   "outputs": [
    {
     "name": "stdout",
     "output_type": "stream",
     "text": [
      "-1\n",
      "17\n"
     ]
    }
   ],
   "source": [
    "# searches the string s for character p\n",
    "# and returns the position of where it was found\n",
    "print(s.find('p'))\n",
    "\n",
    "# searches the string s for character P\n",
    "# and returns the position of where it was found\n",
    "print(s.find('P'))"
   ]
  },
  {
   "cell_type": "code",
   "execution_count": 43,
   "id": "b6755790",
   "metadata": {},
   "outputs": [
    {
     "ename": "ValueError",
     "evalue": "substring not found",
     "output_type": "error",
     "traceback": [
      "\u001b[1;31m---------------------------------------------------------------------------\u001b[0m",
      "\u001b[1;31mValueError\u001b[0m                                Traceback (most recent call last)",
      "\u001b[1;32mc:\\Users\\AliBa\\Desktop\\automate the boring stuff\\Python Tutorial.ipynb Cell 78\u001b[0m line \u001b[0;36m3\n\u001b[0;32m      <a href='vscode-notebook-cell:/c%3A/Users/AliBa/Desktop/automate%20the%20boring%20stuff/Python%20Tutorial.ipynb#Y140sZmlsZQ%3D%3D?line=0'>1</a>\u001b[0m \u001b[39m# searches the string s for character p\u001b[39;00m\n\u001b[0;32m      <a href='vscode-notebook-cell:/c%3A/Users/AliBa/Desktop/automate%20the%20boring%20stuff/Python%20Tutorial.ipynb#Y140sZmlsZQ%3D%3D?line=1'>2</a>\u001b[0m \u001b[39m# and returns the position of where it was found\u001b[39;00m\n\u001b[1;32m----> <a href='vscode-notebook-cell:/c%3A/Users/AliBa/Desktop/automate%20the%20boring%20stuff/Python%20Tutorial.ipynb#Y140sZmlsZQ%3D%3D?line=2'>3</a>\u001b[0m \u001b[39mprint\u001b[39m(s\u001b[39m.\u001b[39;49mindex(\u001b[39m'\u001b[39;49m\u001b[39mp\u001b[39;49m\u001b[39m'\u001b[39;49m))\n",
      "\u001b[1;31mValueError\u001b[0m: substring not found"
     ]
    }
   ],
   "source": [
    "# searches the string s for character p\n",
    "# and returns the position of where it was found\n",
    "print(s.index('p'))"
   ]
  },
  {
   "cell_type": "code",
   "execution_count": 44,
   "id": "b57953c5",
   "metadata": {},
   "outputs": [
    {
     "name": "stdout",
     "output_type": "stream",
     "text": [
      "17\n"
     ]
    }
   ],
   "source": [
    "# searches the string s for character P\n",
    "# and returns the position of where it was found\n",
    "print(s.index('P'))"
   ]
  },
  {
   "cell_type": "markdown",
   "id": "1a635a0e",
   "metadata": {},
   "source": [
    "<div class=\"alert alert-block alert-info\">\n",
    "\n",
    "The ‍`find‍` and `index` methods have the same functions, with the difference that the `find` method returns `-1` if the input character is not found in the string, but the `index` method returns an error.\n",
    "</div>"
   ]
  },
  {
   "cell_type": "markdown",
   "id": "e3f2d40e",
   "metadata": {},
   "source": [
    "### Format Strings <a class=\"anchor\" id=\"Format_Strings\"></a> [&#11014;](#Table_of_Contents)"
   ]
  },
  {
   "cell_type": "code",
   "execution_count": 45,
   "id": "74b2164b",
   "metadata": {},
   "outputs": [
    {
     "name": "stdout",
     "output_type": "stream",
     "text": [
      "I want 3 pieces of item 567 for 49.95 dollars.\n"
     ]
    }
   ],
   "source": [
    "quantity = 3\n",
    "itemno = 567\n",
    "price = 49.95\n",
    "\n",
    "myorder = \"I want {} pieces of item {} for {} dollars.\"\n",
    "\n",
    "print(myorder.format(quantity, itemno, price))"
   ]
  },
  {
   "cell_type": "code",
   "execution_count": 46,
   "id": "2369be2e",
   "metadata": {},
   "outputs": [
    {
     "name": "stdout",
     "output_type": "stream",
     "text": [
      "I want to pay 49.95 dollars for 3 pieces of item 567.\n"
     ]
    }
   ],
   "source": [
    "myorder = \"I want to pay {2} dollars for {0} pieces of item {1}.\"\n",
    "\n",
    "print(myorder.format(quantity, itemno, price))"
   ]
  },
  {
   "cell_type": "code",
   "execution_count": 47,
   "id": "88a437c6",
   "metadata": {},
   "outputs": [
    {
     "name": "stdout",
     "output_type": "stream",
     "text": [
      "I want 3 pieces of item 567 for 49.95 dollars.\n"
     ]
    }
   ],
   "source": [
    "print(f\"I want {quantity} pieces of item {itemno} for {price} dollars.\")"
   ]
  },
  {
   "cell_type": "markdown",
   "id": "e9b59cdf",
   "metadata": {},
   "source": [
    "### Escape Characters <a class=\"anchor\" id=\"Escape_Characters\"></a> [&#11014;](#Table_of_Contents)"
   ]
  },
  {
   "cell_type": "markdown",
   "id": "0ea17c39",
   "metadata": {},
   "source": [
    "| Code | Result |\n",
    "| :- | :- |\n",
    "| `\\'` | Single Quote |\n",
    "| `\\\"` | Double Quote |\n",
    "| `\\n` | New Line |\n",
    "| `\\t` | Tab |\n",
    "| `\\b` | Backspace |"
   ]
  },
  {
   "cell_type": "code",
   "execution_count": 48,
   "id": "5858555d",
   "metadata": {},
   "outputs": [
    {
     "name": "stdout",
     "output_type": "stream",
     "text": [
      "We are the so-called \"Vikings\" from the north.\n"
     ]
    }
   ],
   "source": [
    "print(\"We are the so-called \\\"Vikings\\\" from the north.\")"
   ]
  },
  {
   "cell_type": "code",
   "execution_count": 49,
   "id": "c9df2cf1",
   "metadata": {},
   "outputs": [
    {
     "name": "stdout",
     "output_type": "stream",
     "text": [
      "It's alright.\n"
     ]
    }
   ],
   "source": [
    "print('It\\'s alright.')"
   ]
  },
  {
   "cell_type": "code",
   "execution_count": 50,
   "id": "7e4881f6",
   "metadata": {},
   "outputs": [
    {
     "name": "stdout",
     "output_type": "stream",
     "text": [
      "Hello\n",
      "World!\n"
     ]
    }
   ],
   "source": [
    "print(\"Hello\\nWorld!\")"
   ]
  },
  {
   "cell_type": "code",
   "execution_count": 51,
   "id": "15976ccb",
   "metadata": {},
   "outputs": [
    {
     "name": "stdout",
     "output_type": "stream",
     "text": [
      "Hello\tWorld!\n"
     ]
    }
   ],
   "source": [
    "print(\"Hello\\tWorld!\")"
   ]
  },
  {
   "cell_type": "code",
   "execution_count": 52,
   "id": "70881451",
   "metadata": {},
   "outputs": [
    {
     "name": "stdout",
     "output_type": "stream",
     "text": [
      "HelloWorld!\n"
     ]
    }
   ],
   "source": [
    "print(\"Hello \\bWorld!\")"
   ]
  },
  {
   "cell_type": "markdown",
   "id": "d239b606",
   "metadata": {},
   "source": [
    "## Lists <a class=\"anchor\" id=\"Lists\"></a> [&#11014;](#Table_of_Contents)"
   ]
  },
  {
   "cell_type": "markdown",
   "id": "8e7053db",
   "metadata": {},
   "source": [
    "List items are ordered, changeable (List objects are *mutable*) and allow duplicate values."
   ]
  },
  {
   "cell_type": "code",
   "execution_count": 53,
   "id": "cc97aa9f",
   "metadata": {},
   "outputs": [
    {
     "name": "stdout",
     "output_type": "stream",
     "text": [
      "['apple', 1, 3.14, True, 'Python', (3+4j), [1, 2, 3, 5], (1, 2, 3, 5), {'Ali': 25, 'Reza': 26}, {1, 2, 3, 5}, 'x'] \n",
      "\n",
      "mylist[:] is ['apple', 1, 3.14, True, 'Python', (3+4j), [1, 2, 3, 5], (1, 2, 3, 5), {'Ali': 25, 'Reza': 26}, {1, 2, 3, 5}, 'x'] \n",
      "\n",
      "mylist[1] is 1 \n",
      "\n",
      "mylist[-1] is x \n",
      "\n",
      "mylist[3:5] is [True, 'Python'] \n",
      "\n",
      "mylist[6:] is [[1, 2, 3, 5], (1, 2, 3, 5), {'Ali': 25, 'Reza': 26}, {1, 2, 3, 5}, 'x'] \n",
      "\n",
      "mylist[:6] is ['apple', 1, 3.14, True, 'Python', (3+4j)] \n",
      "\n",
      "mylist[1:4:2] is [1, True] \n",
      "\n",
      "mylist[::-1] is ['x', {1, 2, 3, 5}, {'Ali': 25, 'Reza': 26}, (1, 2, 3, 5), [1, 2, 3, 5], (3+4j), 'Python', True, 3.14, 1, 'apple'] \n",
      "\n",
      "mylist[-9:-2] is [3.14, True, 'Python', (3+4j), [1, 2, 3, 5], (1, 2, 3, 5), {'Ali': 25, 'Reza': 26}]\n"
     ]
    }
   ],
   "source": [
    "mylist = [\"apple\", 1, 3.14, True, 'Python', 3+4j,\n",
    "          [1,2,3,5], (1,2,3,5), {\"Ali\":25, \"Reza\":26}, {1,2,3,5}, 'x']\n",
    "\n",
    "print(mylist, '\\n')\n",
    "\n",
    "print(\"mylist[:] is\", mylist[:], '\\n')\n",
    "\n",
    "print(\"mylist[1] is\", mylist[1], '\\n')\n",
    "\n",
    "print(\"mylist[-1] is\", mylist[-1], '\\n')\n",
    "\n",
    "# mylist[start:end:step] (default: step=1)\n",
    "\n",
    "print(\"mylist[3:5] is\", mylist[3:5], '\\n')\n",
    "\n",
    "print(\"mylist[6:] is\", mylist[6:], '\\n')\n",
    "\n",
    "print(\"mylist[:6] is\", mylist[:6], '\\n')\n",
    "\n",
    "print(\"mylist[1:4:2] is\", mylist[1:4:2], '\\n')\n",
    "\n",
    "print(\"mylist[::-1] is\", mylist[::-1], '\\n')\n",
    "\n",
    "print(\"mylist[-9:-2] is\", mylist[-9:-2])"
   ]
  },
  {
   "cell_type": "code",
   "execution_count": 54,
   "id": "6aa5e61a",
   "metadata": {},
   "outputs": [
    {
     "name": "stdout",
     "output_type": "stream",
     "text": [
      "mylist[6] is [1, 2, 3, 5]\n",
      "mylist[6][1] is 2\n"
     ]
    }
   ],
   "source": [
    "print('mylist[6] is', mylist[6])\n",
    "print('mylist[6][1] is', mylist[6][1])"
   ]
  },
  {
   "cell_type": "code",
   "execution_count": 55,
   "id": "d9d8ee7c",
   "metadata": {},
   "outputs": [
    {
     "name": "stdout",
     "output_type": "stream",
     "text": [
      "['apple', 1, 3.14, True, 'Python', (3+4j), [1, 2, 3, 5], (1, 2, 3, 5), {'Ali': 25, 'Reza': 26}, {1, 2, 3, 5}, 'Python']\n"
     ]
    }
   ],
   "source": [
    "mylist[-1] = \"Python\"\n",
    "\n",
    "print(mylist)"
   ]
  },
  {
   "cell_type": "markdown",
   "id": "fd096249",
   "metadata": {},
   "source": [
    "We can also change a range of item values in a list:"
   ]
  },
  {
   "cell_type": "code",
   "execution_count": 56,
   "id": "9a194f74",
   "metadata": {},
   "outputs": [
    {
     "name": "stdout",
     "output_type": "stream",
     "text": [
      "['apple', 'orange', 'watermelon', True, 'Python', (3+4j), [1, 2, 3, 5], (1, 2, 3, 5), {'Ali': 25, 'Reza': 26}, {1, 2, 3, 5}, 'Python']\n"
     ]
    }
   ],
   "source": [
    "mylist[1:3] = [\"orange\", \"watermelon\"]\n",
    "\n",
    "print(mylist)"
   ]
  },
  {
   "cell_type": "code",
   "execution_count": 57,
   "id": "ddbdd559",
   "metadata": {},
   "outputs": [
    {
     "name": "stdout",
     "output_type": "stream",
     "text": [
      "False\n",
      "True\n",
      "True\n"
     ]
    }
   ],
   "source": [
    "print('python' in mylist)\n",
    "print('Python' in mylist)\n",
    "print('python' not in mylist)"
   ]
  },
  {
   "cell_type": "code",
   "execution_count": 58,
   "id": "03482b82",
   "metadata": {},
   "outputs": [
    {
     "name": "stdout",
     "output_type": "stream",
     "text": [
      "The length of variable mylist is 11\n"
     ]
    }
   ],
   "source": [
    "print(\"The length of variable mylist is\", len(mylist))"
   ]
  },
  {
   "cell_type": "code",
   "execution_count": 59,
   "id": "6b40410f",
   "metadata": {},
   "outputs": [
    {
     "name": "stdout",
     "output_type": "stream",
     "text": [
      "The maximum value in mylist2 is 80.3\n",
      "The maximum value in mylist2 is 4\n"
     ]
    }
   ],
   "source": [
    "mylist2 = [10, 68, 8, 46, 4, 63.6, 75.9, 80.3, 46.7]\n",
    "\n",
    "print(\"The maximum value in mylist2 is\", max(mylist2))\n",
    "print(\"The maximum value in mylist2 is\", min(mylist2))"
   ]
  },
  {
   "cell_type": "markdown",
   "id": "5d7f22a1",
   "metadata": {},
   "source": [
    "### Lists Methods <a class=\"anchor\" id=\"Lists_Methods\"></a> [&#11014;](#Table_of_Contents)"
   ]
  },
  {
   "cell_type": "markdown",
   "id": "5583dc66",
   "metadata": {},
   "source": [
    "| Method | Description |\n",
    "| :- | :- |\n",
    "| `append()` | Adds an element at the end of the list |\n",
    "| `clear()` | Removes all the elements from the list |\n",
    "| `copy()` | Returns a copy of the list |\n",
    "| `count()` | Returns the number of elements with the specified value |\n",
    "| `extend()` | Add the elements of a list (or any iterable), to the end of the current list |\n",
    "| `index()` | Returns the index of the first element with the specified value |\n",
    "| `insert()` | Adds an element at the specified position |\n",
    "| `pop()` | Removes the element at the specified position |\n",
    "| `remove()` | Removes the item with the specified value |\n",
    "| `reverse()` | Reverses the order of the list |\n",
    "| `sort()` | Sorts the list |"
   ]
  },
  {
   "cell_type": "code",
   "execution_count": 60,
   "id": "b9ca6f0b",
   "metadata": {},
   "outputs": [],
   "source": [
    "thislist1 = [\"apple\", \"banana\", \"cherry\", \"cherry\"]\n",
    "thislist2 = [\"mango\", \"pineapple\", \"papaya\", \"banana\", \"banana\"]"
   ]
  },
  {
   "cell_type": "code",
   "execution_count": 61,
   "id": "eeedcabe",
   "metadata": {},
   "outputs": [
    {
     "name": "stdout",
     "output_type": "stream",
     "text": [
      "['apple', 'banana', 'cherry', 'cherry', 'orange']\n"
     ]
    }
   ],
   "source": [
    "thislist1.append(\"orange\")    # adds \"orange\" at the end of the list thislist1\n",
    "\n",
    "print(thislist1)"
   ]
  },
  {
   "cell_type": "code",
   "execution_count": 62,
   "id": "d361daf2",
   "metadata": {},
   "outputs": [
    {
     "name": "stdout",
     "output_type": "stream",
     "text": [
      "['apple', 'banana', 'watermelon', 'cherry', 'cherry', 'orange']\n"
     ]
    }
   ],
   "source": [
    "# adds \"watermelon\" at index 2 of the list thislist1\n",
    "thislist1.insert(2, \"watermelon\")\n",
    "\n",
    "print(thislist1)"
   ]
  },
  {
   "cell_type": "code",
   "execution_count": 63,
   "id": "7d89425a",
   "metadata": {},
   "outputs": [
    {
     "name": "stdout",
     "output_type": "stream",
     "text": [
      "['apple', 'banana', 'watermelon', 'cherry', 'cherry', 'orange', 'mango', 'pineapple', 'papaya', 'banana', 'banana']\n"
     ]
    }
   ],
   "source": [
    "# add the elements of list thislist2, to the end of the list thislist1\n",
    "thislist1.extend(thislist2)\n",
    "\n",
    "print(thislist1)"
   ]
  },
  {
   "cell_type": "code",
   "execution_count": 64,
   "id": "c14c07ab",
   "metadata": {},
   "outputs": [
    {
     "name": "stdout",
     "output_type": "stream",
     "text": [
      "['apple', 'banana', 'watermelon', 'cherry', 'cherry', 'orange', 'mango', 'pineapple', 'papaya', 'banana', 'banana', 'kiwi', 'orange']\n"
     ]
    }
   ],
   "source": [
    "thistuple = (\"kiwi\", \"orange\")\n",
    "\n",
    "# add the elements of tuple thistuple, to the end of the list thislist1\n",
    "thislist1.extend(thistuple)\n",
    "\n",
    "print(thislist1)"
   ]
  },
  {
   "cell_type": "markdown",
   "id": "606c7038",
   "metadata": {},
   "source": [
    "<div class=\"alert alert-block alert-info\">\n",
    "\n",
    "We can also use `+` sign, to join two lists.\n",
    "</div>"
   ]
  },
  {
   "cell_type": "code",
   "execution_count": 65,
   "id": "ae31c398",
   "metadata": {},
   "outputs": [
    {
     "name": "stdout",
     "output_type": "stream",
     "text": [
      "['apple', 'banana', 'watermelon', 'cherry', 'cherry', 'orange', 'mango', 'pineapple', 'papaya', 'banana', 'banana', 'kiwi', 'orange', 'mango', 'pineapple', 'papaya', 'banana', 'banana']\n"
     ]
    }
   ],
   "source": [
    "thislist3 = thislist1 + thislist2\n",
    "\n",
    "print(thislist3)"
   ]
  },
  {
   "cell_type": "code",
   "execution_count": 66,
   "id": "2a8ace7d",
   "metadata": {},
   "outputs": [
    {
     "data": {
      "text/plain": [
       "3"
      ]
     },
     "execution_count": 66,
     "metadata": {},
     "output_type": "execute_result"
    }
   ],
   "source": [
    "# returns the number of elements with the value \"banana\" in list thislist1\n",
    "thislist1.count('banana')"
   ]
  },
  {
   "cell_type": "code",
   "execution_count": 67,
   "id": "bb98a0fa",
   "metadata": {},
   "outputs": [
    {
     "data": {
      "text/plain": [
       "2"
      ]
     },
     "execution_count": 67,
     "metadata": {},
     "output_type": "execute_result"
    }
   ],
   "source": [
    "# returns the index of the first element with the value \"watermelon\"\n",
    "# in list thislist1\n",
    "thislist1.index('watermelon')"
   ]
  },
  {
   "cell_type": "code",
   "execution_count": 68,
   "id": "7d9cc73d",
   "metadata": {},
   "outputs": [
    {
     "name": "stdout",
     "output_type": "stream",
     "text": [
      "['apple', 'watermelon', 'cherry', 'cherry', 'orange', 'mango', 'pineapple', 'papaya', 'banana', 'banana', 'kiwi', 'orange']\n"
     ]
    }
   ],
   "source": [
    "thislist1.remove(\"banana\")    # removes the item with the value \"banana\"\n",
    "\n",
    "print(thislist1)"
   ]
  },
  {
   "cell_type": "code",
   "execution_count": 69,
   "id": "943df5c5",
   "metadata": {},
   "outputs": [
    {
     "name": "stdout",
     "output_type": "stream",
     "text": [
      "['apple', 'cherry', 'cherry', 'orange', 'mango', 'pineapple', 'papaya', 'banana', 'banana', 'kiwi', 'orange']\n"
     ]
    }
   ],
   "source": [
    "thislist1.pop(1)    # it removes the index 1 in list thislist1\n",
    "\n",
    "print(thislist1)"
   ]
  },
  {
   "cell_type": "markdown",
   "id": "103eae39",
   "metadata": {},
   "source": [
    "<div class=\"alert alert-block alert-info\">\n",
    "\n",
    "If you do not specify the index, the `pop()` method removes the last item.\n",
    "</div>"
   ]
  },
  {
   "cell_type": "code",
   "execution_count": 70,
   "id": "fc636fb6",
   "metadata": {},
   "outputs": [
    {
     "name": "stdout",
     "output_type": "stream",
     "text": [
      "['apple', 'cherry', 'cherry', 'orange', 'mango', 'pineapple', 'papaya', 'banana', 'banana', 'kiwi']\n"
     ]
    }
   ],
   "source": [
    "thislist1.pop()\n",
    "\n",
    "print(thislist1)"
   ]
  },
  {
   "cell_type": "markdown",
   "id": "b0c6c953",
   "metadata": {},
   "source": [
    "<div class=\"alert alert-block alert-info\">\n",
    "\n",
    "The `del` keyword also removes the specified index.\n",
    "</div>"
   ]
  },
  {
   "cell_type": "code",
   "execution_count": 71,
   "id": "2e4248fe",
   "metadata": {},
   "outputs": [
    {
     "name": "stdout",
     "output_type": "stream",
     "text": [
      "['cherry', 'cherry', 'orange', 'mango', 'pineapple', 'papaya', 'banana', 'banana', 'kiwi']\n"
     ]
    }
   ],
   "source": [
    "del thislist1[0]    # it removes the index 0 in list thislist1\n",
    "\n",
    "print(thislist1)"
   ]
  },
  {
   "cell_type": "markdown",
   "id": "1ba8a6c0",
   "metadata": {},
   "source": [
    "<div class=\"alert alert-block alert-info\">\n",
    "\n",
    "The `del` keyword can also delete the list completely.\n",
    "</div>"
   ]
  },
  {
   "cell_type": "code",
   "execution_count": 72,
   "id": "1a59a994",
   "metadata": {},
   "outputs": [
    {
     "ename": "NameError",
     "evalue": "name 'thislist1' is not defined",
     "output_type": "error",
     "traceback": [
      "\u001b[1;31m---------------------------------------------------------------------------\u001b[0m",
      "\u001b[1;31mNameError\u001b[0m                                 Traceback (most recent call last)",
      "\u001b[1;32mc:\\Users\\AliBa\\Desktop\\automate the boring stuff\\Python Tutorial.ipynb Cell 120\u001b[0m line \u001b[0;36m3\n\u001b[0;32m      <a href='vscode-notebook-cell:/c%3A/Users/AliBa/Desktop/automate%20the%20boring%20stuff/Python%20Tutorial.ipynb#Y230sZmlsZQ%3D%3D?line=0'>1</a>\u001b[0m \u001b[39mdel\u001b[39;00m thislist1    \u001b[39m# it deletes the list thislist1 completely\u001b[39;00m\n\u001b[1;32m----> <a href='vscode-notebook-cell:/c%3A/Users/AliBa/Desktop/automate%20the%20boring%20stuff/Python%20Tutorial.ipynb#Y230sZmlsZQ%3D%3D?line=2'>3</a>\u001b[0m \u001b[39mprint\u001b[39m(thislist1)\n",
      "\u001b[1;31mNameError\u001b[0m: name 'thislist1' is not defined"
     ]
    }
   ],
   "source": [
    "del thislist1    # it deletes the list thislist1 completely\n",
    "\n",
    "print(thislist1)"
   ]
  },
  {
   "cell_type": "code",
   "execution_count": 73,
   "id": "6162b9f2",
   "metadata": {},
   "outputs": [
    {
     "name": "stdout",
     "output_type": "stream",
     "text": [
      "[]\n"
     ]
    }
   ],
   "source": [
    "thislist = [\"apple\", \"banana\", \"cherry\"]\n",
    "\n",
    "thislist.clear()    # removes all the elements from the list thislist\n",
    "\n",
    "print(thislist)"
   ]
  },
  {
   "cell_type": "markdown",
   "id": "ac5d66b6",
   "metadata": {},
   "source": [
    "<div class=\"alert alert-block alert-info\">\n",
    "\n",
    "List objects have a `sort()` method that will sort the list alphanumerically, ascending, by default.\n",
    "</div>"
   ]
  },
  {
   "cell_type": "code",
   "execution_count": 74,
   "id": "4ae18cfa",
   "metadata": {},
   "outputs": [
    {
     "name": "stdout",
     "output_type": "stream",
     "text": [
      "['banana', 'kiwi', 'mango', 'orange', 'pineapple']\n"
     ]
    }
   ],
   "source": [
    "thislist = [\"orange\", \"mango\", \"kiwi\", \"pineapple\", \"banana\"]\n",
    "\n",
    "thislist.sort()\n",
    "\n",
    "print(thislist)"
   ]
  },
  {
   "cell_type": "code",
   "execution_count": 75,
   "id": "7fc68afd",
   "metadata": {},
   "outputs": [
    {
     "name": "stdout",
     "output_type": "stream",
     "text": [
      "[23, 50, 65, 82, 100]\n"
     ]
    }
   ],
   "source": [
    "thislist = [100, 50, 65, 82, 23]\n",
    "\n",
    "thislist.sort()\n",
    "\n",
    "print(thislist)"
   ]
  },
  {
   "cell_type": "code",
   "execution_count": 76,
   "id": "91726e0c",
   "metadata": {},
   "outputs": [
    {
     "name": "stdout",
     "output_type": "stream",
     "text": [
      "[100, 82, 65, 50, 23]\n"
     ]
    }
   ],
   "source": [
    "thislist.sort(reverse = True)\n",
    "\n",
    "print(thislist)"
   ]
  },
  {
   "cell_type": "markdown",
   "id": "49077627",
   "metadata": {},
   "source": [
    "<div class=\"alert alert-block alert-info\">\n",
    "\n",
    "By default the `sort()` method is case sensitive, resulting in all capital letters being sorted before lower case letters.\n",
    "</div>"
   ]
  },
  {
   "cell_type": "code",
   "execution_count": 77,
   "id": "51bfec81",
   "metadata": {},
   "outputs": [
    {
     "name": "stdout",
     "output_type": "stream",
     "text": [
      "['Kiwi', 'Orange', 'banana', 'cherry']\n"
     ]
    }
   ],
   "source": [
    "thislist = [\"banana\", \"Orange\", \"Kiwi\", \"cherry\"]\n",
    "\n",
    "thislist.sort()\n",
    "\n",
    "print(thislist)"
   ]
  },
  {
   "cell_type": "markdown",
   "id": "aa326f15",
   "metadata": {},
   "source": [
    "We can use built-in functions as key functions when sorting a list. So if you want a case-insensitive sort function, use `str.lower` as a key function:"
   ]
  },
  {
   "cell_type": "code",
   "execution_count": 78,
   "id": "4237f2e9",
   "metadata": {},
   "outputs": [
    {
     "name": "stdout",
     "output_type": "stream",
     "text": [
      "['banana', 'cherry', 'Kiwi', 'Orange']\n"
     ]
    }
   ],
   "source": [
    "thislist.sort(key = str.lower)\n",
    "\n",
    "print(thislist)"
   ]
  },
  {
   "cell_type": "code",
   "execution_count": 79,
   "id": "d10bae8d",
   "metadata": {},
   "outputs": [
    {
     "name": "stdout",
     "output_type": "stream",
     "text": [
      "['Orange', 'Kiwi', 'cherry', 'banana']\n"
     ]
    }
   ],
   "source": [
    "thislist.reverse()    # reverses the order of the list\n",
    "\n",
    "print(thislist)"
   ]
  },
  {
   "cell_type": "markdown",
   "id": "3e9d8bdf",
   "metadata": {},
   "source": [
    "<div class=\"alert alert-block alert-info\">\n",
    "\n",
    "You cannot copy a list simply by typing `list2 = list1`, because `list2` will only be a reference to `list1`, and changes made in `list1` will automatically also be made in `list2`.\n",
    "</div>"
   ]
  },
  {
   "cell_type": "code",
   "execution_count": 80,
   "id": "b71f1db4",
   "metadata": {},
   "outputs": [
    {
     "name": "stdout",
     "output_type": "stream",
     "text": [
      "list1 is [1, 47, 3, 4]\n",
      "list2 is [1, 47, 3, 4]\n"
     ]
    }
   ],
   "source": [
    "list1 = [1,2,3,4]\n",
    "list2 = list1\n",
    "\n",
    "list1[1] = 47\n",
    "\n",
    "print('list1 is', list1)\n",
    "print('list2 is', list2)"
   ]
  },
  {
   "cell_type": "markdown",
   "id": "ea98a4db",
   "metadata": {},
   "source": [
    "There are ways to make a copy. One way is to use the built-in List method `copy()`:"
   ]
  },
  {
   "cell_type": "code",
   "execution_count": 81,
   "id": "4db4785d",
   "metadata": {},
   "outputs": [
    {
     "name": "stdout",
     "output_type": "stream",
     "text": [
      "list1 is [1, 47, 3, 22]\n",
      "list3 is [1, 47, 3, 4]\n"
     ]
    }
   ],
   "source": [
    "list3 = list1.copy()\n",
    "\n",
    "list1[3] = 22\n",
    "\n",
    "print('list1 is', list1)\n",
    "print('list3 is', list3)"
   ]
  },
  {
   "cell_type": "markdown",
   "id": "3d6e157c",
   "metadata": {},
   "source": [
    "Another way to make a copy is to use the built-in function `list()`."
   ]
  },
  {
   "cell_type": "code",
   "execution_count": 82,
   "id": "a3f32895",
   "metadata": {},
   "outputs": [
    {
     "name": "stdout",
     "output_type": "stream",
     "text": [
      "list1 is [1, 47, 15, 22]\n",
      "list4 is [1, 47, 3, 22]\n"
     ]
    }
   ],
   "source": [
    "list4 = list(list1)\n",
    "\n",
    "list1[2] = 15\n",
    "\n",
    "print('list1 is', list1)\n",
    "print('list4 is', list4)"
   ]
  },
  {
   "cell_type": "markdown",
   "id": "73c09f9e",
   "metadata": {},
   "source": [
    "## Tuples <a class=\"anchor\" id=\"Tuples\"></a> [&#11014;](#Table_of_Contents)"
   ]
  },
  {
   "cell_type": "markdown",
   "id": "30a47719",
   "metadata": {},
   "source": [
    "Tuple items are ordered, unchangeable (Tuple objects are *immutable*), and allow duplicate values."
   ]
  },
  {
   "cell_type": "code",
   "execution_count": 83,
   "id": "755a91ad",
   "metadata": {},
   "outputs": [
    {
     "name": "stdout",
     "output_type": "stream",
     "text": [
      "('kiwi', 'watermelon', 1, 3, 3, False, 3.14, (2+3j), [1, 2], (6, 7), {'Zahra': 20, 'Karim': 7}, {20, 7}, 'x') \n",
      "\n",
      "mytuple[:] is ('kiwi', 'watermelon', 1, 3, 3, False, 3.14, (2+3j), [1, 2], (6, 7), {'Zahra': 20, 'Karim': 7}, {20, 7}, 'x') \n",
      "\n",
      "mytuple[1] is watermelon \n",
      "\n",
      "mytuple[-1] is x \n",
      "\n",
      "mytuple[3:5] is (3, 3) \n",
      "\n",
      "mytuple[6:] is (3.14, (2+3j), [1, 2], (6, 7), {'Zahra': 20, 'Karim': 7}, {20, 7}, 'x') \n",
      "\n",
      "mytuple[:6] is ('kiwi', 'watermelon', 1, 3, 3, False) \n",
      "\n",
      "mytuple[1:4:2] is ('watermelon', 3) \n",
      "\n",
      "mytuple[::-1] is ('x', {20, 7}, {'Zahra': 20, 'Karim': 7}, (6, 7), [1, 2], (2+3j), 3.14, False, 3, 3, 1, 'watermelon', 'kiwi') \n",
      "\n",
      "mytuple[-9:-2] is (3, False, 3.14, (2+3j), [1, 2], (6, 7), {'Zahra': 20, 'Karim': 7})\n"
     ]
    }
   ],
   "source": [
    "mytuple = (\"kiwi\", \"watermelon\", 1, 3, 3, False,\n",
    "           3.14, 2+3j, [1,2], (6,7), {'Zahra':20, 'Karim':7}, {20,7}, 'x')\n",
    "\n",
    "print(mytuple, '\\n')\n",
    "\n",
    "print(\"mytuple[:] is\", mytuple[:], '\\n')\n",
    "\n",
    "print(\"mytuple[1] is\", mytuple[1], '\\n')\n",
    "\n",
    "print(\"mytuple[-1] is\", mytuple[-1], '\\n')\n",
    "\n",
    "# mytuple[start:end:step] (default: step=1)\n",
    "\n",
    "print(\"mytuple[3:5] is\", mytuple[3:5], '\\n')\n",
    "\n",
    "print(\"mytuple[6:] is\", mytuple[6:], '\\n')\n",
    "\n",
    "print(\"mytuple[:6] is\", mytuple[:6], '\\n')\n",
    "\n",
    "print(\"mytuple[1:4:2] is\", mytuple[1:4:2], '\\n')\n",
    "\n",
    "print(\"mytuple[::-1] is\", mytuple[::-1], '\\n')\n",
    "\n",
    "print(\"mytuple[-9:-2] is\", mytuple[-9:-2])"
   ]
  },
  {
   "cell_type": "code",
   "execution_count": 84,
   "id": "73b1cd4d",
   "metadata": {},
   "outputs": [
    {
     "name": "stdout",
     "output_type": "stream",
     "text": [
      "mytuple[8] is [1, 2]\n",
      "mytuple[8][0] is 1\n"
     ]
    }
   ],
   "source": [
    "print('mytuple[8] is', mytuple[8])\n",
    "print('mytuple[8][0] is', mytuple[8][0])"
   ]
  },
  {
   "cell_type": "markdown",
   "id": "709c21ea",
   "metadata": {},
   "source": [
    "<div class=\"alert alert-block alert-info\">\n",
    "\n",
    "To create a tuple with only one item, you have to add a comma after the item, otherwise Python will not recognize it as a tuple.\n",
    "</div>"
   ]
  },
  {
   "cell_type": "code",
   "execution_count": 85,
   "id": "522987c4",
   "metadata": {},
   "outputs": [
    {
     "name": "stdout",
     "output_type": "stream",
     "text": [
      "The type of variable var1 is <class 'tuple'>\n",
      "The type of variable var2 is <class 'str'>\n"
     ]
    }
   ],
   "source": [
    "var1 = (\"apple\",)\n",
    "var2 = (\"apple\")\n",
    "\n",
    "print(\"The type of variable var1 is\", type(var1))\n",
    "print(\"The type of variable var2 is\", type(var2))"
   ]
  },
  {
   "cell_type": "code",
   "execution_count": 86,
   "id": "b1bed53f",
   "metadata": {},
   "outputs": [
    {
     "ename": "TypeError",
     "evalue": "'tuple' object does not support item assignment",
     "output_type": "error",
     "traceback": [
      "\u001b[1;31m---------------------------------------------------------------------------\u001b[0m",
      "\u001b[1;31mTypeError\u001b[0m                                 Traceback (most recent call last)",
      "\u001b[1;32mc:\\Users\\AliBa\\Desktop\\automate the boring stuff\\Python Tutorial.ipynb Cell 143\u001b[0m line \u001b[0;36m1\n\u001b[1;32m----> <a href='vscode-notebook-cell:/c%3A/Users/AliBa/Desktop/automate%20the%20boring%20stuff/Python%20Tutorial.ipynb#Y262sZmlsZQ%3D%3D?line=0'>1</a>\u001b[0m mytuple[\u001b[39m-\u001b[39;49m\u001b[39m1\u001b[39;49m] \u001b[39m=\u001b[39m \u001b[39m\"\u001b[39m\u001b[39mPython\u001b[39m\u001b[39m\"\u001b[39m\n\u001b[0;32m      <a href='vscode-notebook-cell:/c%3A/Users/AliBa/Desktop/automate%20the%20boring%20stuff/Python%20Tutorial.ipynb#Y262sZmlsZQ%3D%3D?line=2'>3</a>\u001b[0m \u001b[39mprint\u001b[39m(mytuple)\n",
      "\u001b[1;31mTypeError\u001b[0m: 'tuple' object does not support item assignment"
     ]
    }
   ],
   "source": [
    "mytuple[-1] = \"Python\"\n",
    "\n",
    "print(mytuple)"
   ]
  },
  {
   "cell_type": "markdown",
   "id": "4a0bdf26",
   "metadata": {},
   "source": [
    "<div class=\"alert alert-block alert-info\">\n",
    "\n",
    "Although tuples are immutable, however you are allowed to add tuples to tuples, so if you want to add one item, (or many), create a new tuple with the item(s), and add it to the existing tuple:\n",
    "</div>"
   ]
  },
  {
   "cell_type": "code",
   "execution_count": 87,
   "id": "a387c832",
   "metadata": {},
   "outputs": [
    {
     "name": "stdout",
     "output_type": "stream",
     "text": [
      "('kiwi', 'watermelon', 1, 3, 3, False, 3.14, (2+3j), [1, 2], (6, 7), {'Zahra': 20, 'Karim': 7}, {20, 7}, 'x', 'orange')\n"
     ]
    }
   ],
   "source": [
    "y = (\"orange\",)\n",
    "mytuple += y\n",
    "\n",
    "print(mytuple)"
   ]
  },
  {
   "cell_type": "code",
   "execution_count": 88,
   "id": "a075f3fc",
   "metadata": {},
   "outputs": [
    {
     "name": "stdout",
     "output_type": "stream",
     "text": [
      "False\n",
      "True\n",
      "True\n"
     ]
    }
   ],
   "source": [
    "print('X' in mytuple)\n",
    "print('x' in mytuple)\n",
    "print('X' not in mytuple)"
   ]
  },
  {
   "cell_type": "code",
   "execution_count": 89,
   "id": "d7fe0194",
   "metadata": {},
   "outputs": [
    {
     "name": "stdout",
     "output_type": "stream",
     "text": [
      "The length of variable mytuple is 14\n"
     ]
    }
   ],
   "source": [
    "print(\"The length of variable mytuple is\", len(mytuple))"
   ]
  },
  {
   "cell_type": "code",
   "execution_count": 90,
   "id": "36344851",
   "metadata": {},
   "outputs": [
    {
     "name": "stdout",
     "output_type": "stream",
     "text": [
      "The maximum value in mytuple2 is 57\n",
      "The maximum value in mytuple2 is 9\n"
     ]
    }
   ],
   "source": [
    "mytuple2 = (25, 57, 38, 9, 16, 30.1, 39.5, 16.4, 18.5, 17.4)\n",
    "\n",
    "print(\"The maximum value in mytuple2 is\", max(mytuple2))\n",
    "print(\"The maximum value in mytuple2 is\", min(mytuple2))"
   ]
  },
  {
   "cell_type": "markdown",
   "id": "78658ba2",
   "metadata": {},
   "source": [
    "<div class=\"alert alert-block alert-info\">\n",
    "\n",
    "Similar to lists, the `del` keyword can delete the tuple completely.\n",
    "</div>"
   ]
  },
  {
   "cell_type": "code",
   "execution_count": 91,
   "id": "220e15a0",
   "metadata": {},
   "outputs": [
    {
     "ename": "NameError",
     "evalue": "name 'mytuple' is not defined",
     "output_type": "error",
     "traceback": [
      "\u001b[1;31m---------------------------------------------------------------------------\u001b[0m",
      "\u001b[1;31mNameError\u001b[0m                                 Traceback (most recent call last)",
      "\u001b[1;32mc:\\Users\\AliBa\\Desktop\\automate the boring stuff\\Python Tutorial.ipynb Cell 150\u001b[0m line \u001b[0;36m3\n\u001b[0;32m      <a href='vscode-notebook-cell:/c%3A/Users/AliBa/Desktop/automate%20the%20boring%20stuff/Python%20Tutorial.ipynb#Y302sZmlsZQ%3D%3D?line=0'>1</a>\u001b[0m \u001b[39mdel\u001b[39;00m mytuple\n\u001b[1;32m----> <a href='vscode-notebook-cell:/c%3A/Users/AliBa/Desktop/automate%20the%20boring%20stuff/Python%20Tutorial.ipynb#Y302sZmlsZQ%3D%3D?line=2'>3</a>\u001b[0m \u001b[39mprint\u001b[39m(mytuple)\n",
      "\u001b[1;31mNameError\u001b[0m: name 'mytuple' is not defined"
     ]
    }
   ],
   "source": [
    "del mytuple\n",
    "\n",
    "print(mytuple)"
   ]
  },
  {
   "cell_type": "markdown",
   "id": "d9b38afe",
   "metadata": {},
   "source": [
    "<div class=\"alert alert-block alert-warning\">\n",
    "\n",
    "When we create a tuple, we normally assign values to it. This is called *packing* a tuple.\n",
    "```python\n",
    "fruits = (\"apple\", \"banana\", \"cherry\")\n",
    "```\n",
    "But, in Python, we are also allowed to extract the values back into variables. This is called *unpacking*.\n",
    "```python\n",
    "(green, yellow, red) = fruits\n",
    "\n",
    "```\n",
    "The number of variables must match the number of values in the tuple, if not, you must use an asterisk to collect the remaining values as a list. If the number of variables is less than the number of values, you can add an `*` to the variable name and the values will be assigned to the variable as a list:\n",
    "</div>"
   ]
  },
  {
   "cell_type": "code",
   "execution_count": 92,
   "id": "b60b90c4",
   "metadata": {},
   "outputs": [
    {
     "name": "stdout",
     "output_type": "stream",
     "text": [
      "apple\n",
      "banana\n",
      "['cherry', 'strawberry', 'raspberry']\n"
     ]
    }
   ],
   "source": [
    "fruits = (\"apple\", \"banana\", \"cherry\", \"strawberry\", \"raspberry\")\n",
    "\n",
    "(green, yellow, *red) = fruits\n",
    "\n",
    "print(green)\n",
    "print(yellow)\n",
    "print(red)"
   ]
  },
  {
   "cell_type": "markdown",
   "id": "084ee8ad",
   "metadata": {},
   "source": [
    "If the asterisk is added to another variable name than the last, Python will assign values to the variable until the number of values left matches the number of variables left:"
   ]
  },
  {
   "cell_type": "code",
   "execution_count": 93,
   "id": "24dec026",
   "metadata": {},
   "outputs": [
    {
     "name": "stdout",
     "output_type": "stream",
     "text": [
      "apple\n",
      "['banana', 'cherry', 'strawberry']\n",
      "raspberry\n"
     ]
    }
   ],
   "source": [
    "(green, *tropic, red) = fruits\n",
    "\n",
    "print(green)\n",
    "print(tropic)\n",
    "print(red)"
   ]
  },
  {
   "cell_type": "markdown",
   "id": "b80683de",
   "metadata": {},
   "source": [
    "### Tuples Methods <a class=\"anchor\" id=\"Tuples_Methods\"></a> [&#11014;](#Table_of_Contents)"
   ]
  },
  {
   "cell_type": "markdown",
   "id": "cc872ba2",
   "metadata": {},
   "source": [
    "| Method | Description |\n",
    "| :- | :- |\n",
    "| `count()` | Returns the number of times a specified value occurs in a tuple |\n",
    "| `index()` | Searches the tuple for a specified value and returns the position of where it was found |"
   ]
  },
  {
   "cell_type": "code",
   "execution_count": 94,
   "id": "748490a3",
   "metadata": {},
   "outputs": [
    {
     "name": "stdout",
     "output_type": "stream",
     "text": [
      "1\n",
      "2\n"
     ]
    }
   ],
   "source": [
    "fruits = (\"apple\", \"banana\", \"cherry\", \"banana\", \"strawberry\", \"raspberry\")\n",
    "\n",
    "# searches the tuple fruits for value \"banana\"\n",
    "# and returns the position of where it was found\n",
    "print(fruits.index(\"banana\"))\n",
    "# try this code and try to describe it's output\n",
    "#print(fruits.index(\"banana\", fruits.index(\"banana\")+1, len(fruits)))\n",
    "\n",
    "# returns the number of times that the value \"banana\" occurs in tuple fruits\n",
    "print(fruits.count(\"banana\"))"
   ]
  },
  {
   "cell_type": "markdown",
   "id": "3d31236b",
   "metadata": {},
   "source": [
    "## Sets <a class=\"anchor\" id=\"Sets\"></a> [&#11014;](#Table_of_Contents)"
   ]
  },
  {
   "cell_type": "markdown",
   "id": "973af4a5",
   "metadata": {},
   "source": [
    "Set items are unordered, unchangeable*, unindexed and do not allow duplicate values."
   ]
  },
  {
   "cell_type": "markdown",
   "id": "b5f14f99",
   "metadata": {},
   "source": [
    "<div class=\"alert alert-block alert-info\">\n",
    "\n",
    "*Set items are unchangeable, but you can remove items and add new items.\n",
    "</div>\n",
    "\n",
    "<div class=\"alert alert-block alert-info\">\n",
    "\n",
    "Sets are unordered, so you cannot be sure in which order the items will appear.\n",
    "</div>"
   ]
  },
  {
   "cell_type": "code",
   "execution_count": 95,
   "id": "f5ed0be8",
   "metadata": {},
   "outputs": [
    {
     "name": "stdout",
     "output_type": "stream",
     "text": [
      "{False, 2.26, 3, 3.14, 5, (0, 0), 'Mahsa', 'Ahmad', (4+6j), 'x'} \n",
      "\n"
     ]
    }
   ],
   "source": [
    "myset = {\"Ahmad\", 5, \"Mahsa\", (0,0), \"Mahsa\", 3, 3.14, 2.26, False, 4+6j, 'x'}\n",
    "\n",
    "print(myset, '\\n')"
   ]
  },
  {
   "cell_type": "markdown",
   "id": "7bd9bada",
   "metadata": {},
   "source": [
    "<div class=\"alert alert-block alert-info\">\n",
    "\n",
    "The values `True` and `1` are considered the same value in sets, and are treated as duplicates.\n",
    "</div>"
   ]
  },
  {
   "cell_type": "code",
   "execution_count": 96,
   "id": "e40eb64b",
   "metadata": {},
   "outputs": [
    {
     "name": "stdout",
     "output_type": "stream",
     "text": [
      "{True, 2}\n"
     ]
    }
   ],
   "source": [
    "myset2 = {True, 1, 2}\n",
    "\n",
    "print(myset2)"
   ]
  },
  {
   "cell_type": "code",
   "execution_count": 97,
   "id": "76c2046e",
   "metadata": {},
   "outputs": [
    {
     "name": "stdout",
     "output_type": "stream",
     "text": [
      "False\n",
      "True\n",
      "True\n"
     ]
    }
   ],
   "source": [
    "print('X' in myset)\n",
    "print('x' in myset)\n",
    "print('X' not in myset)"
   ]
  },
  {
   "cell_type": "code",
   "execution_count": 98,
   "id": "ff556c6a",
   "metadata": {},
   "outputs": [
    {
     "name": "stdout",
     "output_type": "stream",
     "text": [
      "The length of variable myset is 10\n"
     ]
    }
   ],
   "source": [
    "print(\"The length of variable myset is\", len(myset))"
   ]
  },
  {
   "cell_type": "code",
   "execution_count": 99,
   "id": "4bd501a7",
   "metadata": {},
   "outputs": [
    {
     "name": "stdout",
     "output_type": "stream",
     "text": [
      "The maximum value in myset3 is 97\n",
      "The maximum value in myset3 is 11.6\n"
     ]
    }
   ],
   "source": [
    "myset3 = {45, 89, 16, 29, 97, 67.3, 94.5, 46.7, 11.6, 74.5}\n",
    "\n",
    "print(\"The maximum value in myset3 is\", max(myset3))\n",
    "print(\"The maximum value in myset3 is\", min(myset3))"
   ]
  },
  {
   "cell_type": "markdown",
   "id": "d3e9c49f",
   "metadata": {},
   "source": [
    "### Sets Methods <a class=\"anchor\" id=\"Sets_Methods\"></a> [&#11014;](#Table_of_Contents)"
   ]
  },
  {
   "cell_type": "markdown",
   "id": "cc7cd214",
   "metadata": {},
   "source": [
    "| Method | Description |\n",
    "| :- | :- |\n",
    "| `add()` | Adds an element to the set |\n",
    "| `clear()` | Removes all the elements from the set |\n",
    "| `copy()` | Returns a copy of the set |\n",
    "| `difference()` | Returns a set containing the difference between two or more sets |\n",
    "| `difference_update()` | Removes the items in this set that are also included in another, specified set |\n",
    "| `discard()` | Remove the specified item |\n",
    "| `intersection()` | Returns a set, that is the intersection of two other sets |\n",
    "| `intersection_update()` | Removes the items in this set that are not present in other, specified set(s) |\n",
    "| `isdisjoint()` | Returns whether two sets have a intersection or not |\n",
    "| `issubset()` | Returns whether another set contains this set or not |\n",
    "| `issuperset()` | Returns whether this set contains another set or not |\n",
    "| `pop()` | Removes an element from the set |\n",
    "| `remove()` | Removes the specified element |\n",
    "| `symmetric_difference()` | Returns a set with the symmetric differences of two sets |\n",
    "| `symmetric_difference_update()` | inserts the symmetric differences from this set and another |\n",
    "| `union()` | Return a set containing the union of sets |\n",
    "| `update()` | Update the set with the union of this set and others |"
   ]
  },
  {
   "cell_type": "code",
   "execution_count": 100,
   "id": "33b0c64b",
   "metadata": {},
   "outputs": [],
   "source": [
    "thisset1 = {\"apple\", \"banana\", \"cherry\"}\n",
    "thisset2 = {\"pineapple\", \"mango\", \"papaya\", \"apple\"}"
   ]
  },
  {
   "cell_type": "code",
   "execution_count": 101,
   "id": "5ca6c6de",
   "metadata": {},
   "outputs": [
    {
     "name": "stdout",
     "output_type": "stream",
     "text": [
      "{'orange', 'cherry', 'apple', 'banana'}\n"
     ]
    }
   ],
   "source": [
    "thisset1.add(\"orange\")    # adds \"orange\" to the set thisset1\n",
    "\n",
    "print(thisset1)"
   ]
  },
  {
   "cell_type": "code",
   "execution_count": 102,
   "id": "09ffff2b",
   "metadata": {},
   "outputs": [
    {
     "name": "stdout",
     "output_type": "stream",
     "text": [
      "{'papaya', 'apple', 'banana', 'orange', 'pineapple', 'cherry', 'mango'}\n"
     ]
    }
   ],
   "source": [
    "# update the set thisset1 with the union of set thisset1 and set thisset2\n",
    "thisset1.update(thisset2)\n",
    "\n",
    "print(thisset1)"
   ]
  },
  {
   "cell_type": "code",
   "execution_count": 103,
   "id": "7189bfc3",
   "metadata": {},
   "outputs": [
    {
     "name": "stdout",
     "output_type": "stream",
     "text": [
      "{'papaya', 'apple', 'kiwi', 'banana', 'orange', 'pineapple', 'cherry', 'mango'}\n"
     ]
    }
   ],
   "source": [
    "mylist = [\"kiwi\", \"orange\"]\n",
    "\n",
    "thisset1.update(mylist)\n",
    "\n",
    "print(thisset1)"
   ]
  },
  {
   "cell_type": "code",
   "execution_count": 104,
   "id": "430ced76",
   "metadata": {},
   "outputs": [
    {
     "data": {
      "text/plain": [
       "{'apple', 'banana', 'cherry', 'kiwi', 'mango', 'orange', 'papaya', 'pineapple'}"
      ]
     },
     "execution_count": 104,
     "metadata": {},
     "output_type": "execute_result"
    }
   ],
   "source": [
    "# return a set containing the union of set thisset1 and set thisset2\n",
    "thisset1.union(thisset2)"
   ]
  },
  {
   "cell_type": "markdown",
   "id": "307bc02a",
   "metadata": {},
   "source": [
    "The `intersection_update()` method will keep only the items that are present in both sets:"
   ]
  },
  {
   "cell_type": "code",
   "execution_count": 105,
   "id": "30ef79fd",
   "metadata": {},
   "outputs": [
    {
     "name": "stdout",
     "output_type": "stream",
     "text": [
      "{'papaya', 'pineapple', 'apple', 'mango'}\n"
     ]
    }
   ],
   "source": [
    "# removes the items in the set thisset1 that are not present in set thisset2\n",
    "thisset1.intersection_update(thisset2)\n",
    "\n",
    "print(thisset1)"
   ]
  },
  {
   "cell_type": "markdown",
   "id": "89044358",
   "metadata": {},
   "source": [
    "The `intersection()` method will return a *new* set, that only contains the items that are present in both sets:"
   ]
  },
  {
   "cell_type": "code",
   "execution_count": 106,
   "id": "a197e95b",
   "metadata": {},
   "outputs": [
    {
     "name": "stdout",
     "output_type": "stream",
     "text": [
      "{'papaya', 'pineapple', 'apple', 'mango'}\n"
     ]
    }
   ],
   "source": [
    "# returns a set, that is the intersection of set thisset1 and set thisset2\n",
    "thisset3 = thisset1.intersection(thisset2)\n",
    "\n",
    "print(thisset3)"
   ]
  },
  {
   "cell_type": "code",
   "execution_count": 107,
   "id": "5b68ec62",
   "metadata": {},
   "outputs": [
    {
     "name": "stdout",
     "output_type": "stream",
     "text": [
      "{'cherry', 'banana'}\n"
     ]
    }
   ],
   "source": [
    "thisset1 = {\"apple\", \"banana\", \"cherry\"}\n",
    "thisset2 = {\"pineapple\", \"mango\", \"papaya\", \"apple\"}\n",
    "\n",
    "# removes the items in the set thisset1\n",
    "# that are also included in the set thisset2\n",
    "thisset1.difference_update(thisset2)\n",
    "\n",
    "print(thisset1)"
   ]
  },
  {
   "cell_type": "code",
   "execution_count": 108,
   "id": "d6bd3ac9",
   "metadata": {},
   "outputs": [
    {
     "name": "stdout",
     "output_type": "stream",
     "text": [
      "{'cherry', 'banana'}\n"
     ]
    }
   ],
   "source": [
    "# returns a set containing the difference between thisset1 and thisset2\n",
    "thisset3 = thisset1.difference(thisset2)\n",
    "\n",
    "print(thisset3)"
   ]
  },
  {
   "cell_type": "markdown",
   "id": "b4f632e3",
   "metadata": {},
   "source": [
    "The `symmetric_difference_update()` method will keep only the elements that are NOT present in both sets:"
   ]
  },
  {
   "cell_type": "code",
   "execution_count": 109,
   "id": "1d2dd6d2",
   "metadata": {},
   "outputs": [
    {
     "name": "stdout",
     "output_type": "stream",
     "text": [
      "{'papaya', 'banana', 'pineapple', 'cherry', 'mango'}\n"
     ]
    }
   ],
   "source": [
    "thisset1 = {\"apple\", \"banana\", \"cherry\"}\n",
    "thisset2 = {\"pineapple\", \"mango\", \"papaya\", \"apple\"}\n",
    "\n",
    "# inserts the symmetric differences from thisset1 and thisset2\n",
    "thisset1.symmetric_difference_update(thisset2)\n",
    "\n",
    "print(thisset1)"
   ]
  },
  {
   "cell_type": "markdown",
   "id": "12870569",
   "metadata": {},
   "source": [
    "The `symmetric_difference()` method will return a *new* set, that contains only the elements that are NOT present in both sets:"
   ]
  },
  {
   "cell_type": "code",
   "execution_count": 110,
   "id": "a4469838",
   "metadata": {},
   "outputs": [
    {
     "name": "stdout",
     "output_type": "stream",
     "text": [
      "{'apple', 'banana', 'cherry'}\n"
     ]
    }
   ],
   "source": [
    "# returns a set with the symmetric differences of thisset1 and thisset2\n",
    "thisset3 = thisset1.symmetric_difference(thisset2)\n",
    "\n",
    "print(thisset3)"
   ]
  },
  {
   "cell_type": "code",
   "execution_count": 111,
   "id": "50577d61",
   "metadata": {},
   "outputs": [
    {
     "name": "stdout",
     "output_type": "stream",
     "text": [
      "True\n",
      "True\n"
     ]
    }
   ],
   "source": [
    "thisset1 = {\"apple\", \"banana\", \"cherry\"}\n",
    "thisset2 = {\"apple\", \"banana\", \"cherry\", \"mango\", \"papaya\"}\n",
    "\n",
    "# returns whether thisset2 contains thisset1 or not\n",
    "print(thisset1.issubset(thisset2))\n",
    "# returns whether thisset1 contains thisset2 or not\n",
    "print(thisset2.issuperset(thisset1))"
   ]
  },
  {
   "cell_type": "code",
   "execution_count": 112,
   "id": "5bc48b6f",
   "metadata": {},
   "outputs": [
    {
     "name": "stdout",
     "output_type": "stream",
     "text": [
      "{'cherry', 'apple'}\n"
     ]
    },
    {
     "ename": "KeyError",
     "evalue": "'banana'",
     "output_type": "error",
     "traceback": [
      "\u001b[1;31m---------------------------------------------------------------------------\u001b[0m",
      "\u001b[1;31mKeyError\u001b[0m                                  Traceback (most recent call last)",
      "\u001b[1;32mc:\\Users\\AliBa\\Desktop\\automate the boring stuff\\Python Tutorial.ipynb Cell 185\u001b[0m line \u001b[0;36m6\n\u001b[0;32m      <a href='vscode-notebook-cell:/c%3A/Users/AliBa/Desktop/automate%20the%20boring%20stuff/Python%20Tutorial.ipynb#Y352sZmlsZQ%3D%3D?line=2'>3</a>\u001b[0m \u001b[39mprint\u001b[39m(thisset1)\n\u001b[0;32m      <a href='vscode-notebook-cell:/c%3A/Users/AliBa/Desktop/automate%20the%20boring%20stuff/Python%20Tutorial.ipynb#Y352sZmlsZQ%3D%3D?line=4'>5</a>\u001b[0m \u001b[39m# remove an item that is not in the set, using remove\u001b[39;00m\n\u001b[1;32m----> <a href='vscode-notebook-cell:/c%3A/Users/AliBa/Desktop/automate%20the%20boring%20stuff/Python%20Tutorial.ipynb#Y352sZmlsZQ%3D%3D?line=5'>6</a>\u001b[0m thisset1\u001b[39m.\u001b[39;49mremove(\u001b[39m\"\u001b[39;49m\u001b[39mbanana\u001b[39;49m\u001b[39m\"\u001b[39;49m)\n\u001b[0;32m      <a href='vscode-notebook-cell:/c%3A/Users/AliBa/Desktop/automate%20the%20boring%20stuff/Python%20Tutorial.ipynb#Y352sZmlsZQ%3D%3D?line=6'>7</a>\u001b[0m \u001b[39mprint\u001b[39m(thisset1)\n",
      "\u001b[1;31mKeyError\u001b[0m: 'banana'"
     ]
    }
   ],
   "source": [
    "# removes \"banana\" in the set thisset1\n",
    "thisset1.remove(\"banana\")\n",
    "print(thisset1)\n",
    "\n",
    "# remove an item that is not in the set, using remove\n",
    "thisset1.remove(\"banana\")\n",
    "print(thisset1)"
   ]
  },
  {
   "cell_type": "code",
   "execution_count": 113,
   "id": "a44a78e9",
   "metadata": {},
   "outputs": [
    {
     "name": "stdout",
     "output_type": "stream",
     "text": [
      "{'cherry', 'apple'}\n",
      "{'cherry', 'apple'}\n"
     ]
    }
   ],
   "source": [
    "# removes \"mango\" in the set thisset1\n",
    "thisset1.discard(\"mango\")\n",
    "print(thisset1)\n",
    "\n",
    "# remove an item that is not in the set, using discard\n",
    "thisset1.discard(\"banana\")\n",
    "print(thisset1)"
   ]
  },
  {
   "cell_type": "markdown",
   "id": "64f8cc3b",
   "metadata": {},
   "source": [
    "<div class=\"alert alert-block alert-info\">\n",
    "\n",
    "If the item to remove does not exist, `remove()` will raise an error, but `discard()` will NOT raise an error.\n",
    "</div>"
   ]
  },
  {
   "cell_type": "markdown",
   "id": "6767aff6",
   "metadata": {},
   "source": [
    "You can also use the `pop()` method to remove an item, but this method will remove a random item, so you cannot be sure what item that gets removed:"
   ]
  },
  {
   "cell_type": "code",
   "execution_count": 114,
   "id": "7b897853",
   "metadata": {},
   "outputs": [
    {
     "name": "stdout",
     "output_type": "stream",
     "text": [
      "{'apple'}\n"
     ]
    }
   ],
   "source": [
    "thisset1.pop()    # removes a random element from the set thisset1\n",
    "\n",
    "print(thisset1)"
   ]
  },
  {
   "cell_type": "code",
   "execution_count": 115,
   "id": "b8d3ae32",
   "metadata": {},
   "outputs": [
    {
     "name": "stdout",
     "output_type": "stream",
     "text": [
      "set()\n"
     ]
    }
   ],
   "source": [
    "thisset1.clear()    # removes all the elements from the set thisset1\n",
    "\n",
    "print(thisset1)"
   ]
  },
  {
   "cell_type": "markdown",
   "id": "888206cd",
   "metadata": {},
   "source": [
    "<div class=\"alert alert-block alert-info\">\n",
    "\n",
    "Similar to lists and tuples, the `del` keyword can delete the set completely.\n",
    "</div>"
   ]
  },
  {
   "cell_type": "code",
   "execution_count": 116,
   "id": "90e23fd9",
   "metadata": {},
   "outputs": [
    {
     "ename": "NameError",
     "evalue": "name 'thisset' is not defined",
     "output_type": "error",
     "traceback": [
      "\u001b[1;31m---------------------------------------------------------------------------\u001b[0m",
      "\u001b[1;31mNameError\u001b[0m                                 Traceback (most recent call last)",
      "\u001b[1;32mc:\\Users\\AliBa\\Desktop\\automate the boring stuff\\Python Tutorial.ipynb Cell 192\u001b[0m line \u001b[0;36m5\n\u001b[0;32m      <a href='vscode-notebook-cell:/c%3A/Users/AliBa/Desktop/automate%20the%20boring%20stuff/Python%20Tutorial.ipynb#Y362sZmlsZQ%3D%3D?line=0'>1</a>\u001b[0m thisset \u001b[39m=\u001b[39m {\u001b[39m\"\u001b[39m\u001b[39mapple\u001b[39m\u001b[39m\"\u001b[39m, \u001b[39m\"\u001b[39m\u001b[39mbanana\u001b[39m\u001b[39m\"\u001b[39m, \u001b[39m\"\u001b[39m\u001b[39mcherry\u001b[39m\u001b[39m\"\u001b[39m}\n\u001b[0;32m      <a href='vscode-notebook-cell:/c%3A/Users/AliBa/Desktop/automate%20the%20boring%20stuff/Python%20Tutorial.ipynb#Y362sZmlsZQ%3D%3D?line=2'>3</a>\u001b[0m \u001b[39mdel\u001b[39;00m thisset\n\u001b[1;32m----> <a href='vscode-notebook-cell:/c%3A/Users/AliBa/Desktop/automate%20the%20boring%20stuff/Python%20Tutorial.ipynb#Y362sZmlsZQ%3D%3D?line=4'>5</a>\u001b[0m \u001b[39mprint\u001b[39m(thisset)\n",
      "\u001b[1;31mNameError\u001b[0m: name 'thisset' is not defined"
     ]
    }
   ],
   "source": [
    "thisset = {\"apple\", \"banana\", \"cherry\"}\n",
    "\n",
    "del thisset\n",
    "\n",
    "print(thisset)"
   ]
  },
  {
   "cell_type": "markdown",
   "id": "803b4da2",
   "metadata": {},
   "source": [
    "## Dictionaries <a class=\"anchor\" id=\"Dictionaries\"></a> [&#11014;](#Table_of_Contents)"
   ]
  },
  {
   "cell_type": "markdown",
   "id": "569c3559",
   "metadata": {},
   "source": [
    "Dictionary items are ordered, changeable (Dictionary objects are *mutable*), and doesn't allow duplicate values."
   ]
  },
  {
   "cell_type": "code",
   "execution_count": 117,
   "id": "bd584aea",
   "metadata": {},
   "outputs": [
    {
     "name": "stdout",
     "output_type": "stream",
     "text": [
      "{'brand': 'Ford', 'electric': False, 'year': 2020, 'colors': ['red', 'white', 'blue']} \n",
      "\n",
      "mydict['brand'] is Ford \n",
      "\n",
      "mydict['colors'][1] white\n"
     ]
    }
   ],
   "source": [
    "mydict = {\"brand\":\"Ford\", \"electric\":False, \"year\":1964,\n",
    "          \"year\":2020, \"colors\":[\"red\",\"white\",\"blue\"]}\n",
    "\n",
    "print(mydict, '\\n')\n",
    "\n",
    "print(\"mydict['brand'] is\", mydict[\"brand\"], '\\n')\n",
    "\n",
    "print(\"mydict['colors'][1]\", mydict[\"colors\"][1])"
   ]
  },
  {
   "cell_type": "code",
   "execution_count": 118,
   "id": "d1f6f63b",
   "metadata": {},
   "outputs": [
    {
     "name": "stdout",
     "output_type": "stream",
     "text": [
      "{'brand': 'Lamborghini', 'electric': False, 'year': 2020, 'colors': ['red', 'white', 'blue'], 'country': 'Germany'}\n"
     ]
    }
   ],
   "source": [
    "mydict[\"brand\"] = \"Lamborghini\"\n",
    "mydict[\"country\"] = \"Germany\"\n",
    "\n",
    "print(mydict)"
   ]
  },
  {
   "cell_type": "code",
   "execution_count": 119,
   "id": "8b2f7e63",
   "metadata": {},
   "outputs": [
    {
     "name": "stdout",
     "output_type": "stream",
     "text": [
      "True\n",
      "False\n",
      "False\n",
      "True\n"
     ]
    }
   ],
   "source": [
    "print('electric' in mydict)\n",
    "print('Electric' in mydict)\n",
    "print(2020 in mydict)\n",
    "print('Electric' not in mydict)"
   ]
  },
  {
   "cell_type": "code",
   "execution_count": 120,
   "id": "c51f601e",
   "metadata": {},
   "outputs": [
    {
     "name": "stdout",
     "output_type": "stream",
     "text": [
      "The length of variable mydict is 5\n"
     ]
    }
   ],
   "source": [
    "print(\"The length of variable mydict is\", len(mydict))"
   ]
  },
  {
   "cell_type": "code",
   "execution_count": 121,
   "id": "9a6f0213",
   "metadata": {},
   "outputs": [
    {
     "name": "stdout",
     "output_type": "stream",
     "text": [
      "15\n"
     ]
    }
   ],
   "source": [
    "family = {\"child1\":{\"Name\":\"Ali\", \"Age\":15},\n",
    "          \"child2\":{\"Name\":\"Reza\", \"Age\":18}}\n",
    "\n",
    "print(family[\"child1\"][\"Age\"])"
   ]
  },
  {
   "cell_type": "markdown",
   "id": "2dcd6b07",
   "metadata": {},
   "source": [
    "### Dictionaries Methods <a class=\"anchor\" id=\"Dictionaries_Methods\"></a> [&#11014;](#Table_of_Contents)"
   ]
  },
  {
   "cell_type": "markdown",
   "id": "e9763a19",
   "metadata": {},
   "source": [
    "| Method | Description |\n",
    "| :- | :- |\n",
    "| `clear()` | Removes all the elements from the dictionary |\n",
    "| `copy()` | Returns a copy of the dictionary |\n",
    "| `fromkeys()` | Returns a dictionary with the specified keys and value |\n",
    "| `get()` | Returns the value of the specified key |\n",
    "| `items()` | Returns a list containing a tuple for each key value pair |\n",
    "| `keys()` | Returns a list containing the dictionary's keys |\n",
    "| `pop()` | Removes the element with the specified key |\n",
    "| `popitem()` | Removes the last inserted key-value pair |\n",
    "| `setdefault()` | Returns the value of the specified key. If the key does not exist: insert the key, with the specified value |\n",
    "| `update()` | Updates the dictionary with the specified key-value pairs |\n",
    "| `values()` | Returns a list of all the values in the dictionary |"
   ]
  },
  {
   "cell_type": "code",
   "execution_count": 122,
   "id": "7a35ac53",
   "metadata": {},
   "outputs": [],
   "source": [
    "thisdict = {\"brand\":\"Ford\", \"model\":\"Mustang\", \"year\":1964}"
   ]
  },
  {
   "cell_type": "code",
   "execution_count": 123,
   "id": "db15e654",
   "metadata": {},
   "outputs": [
    {
     "name": "stdout",
     "output_type": "stream",
     "text": [
      "Mustang\n"
     ]
    }
   ],
   "source": [
    "# returns the value of the key \"model\" in the thisdict\n",
    "# (same as thisdict[\"model\"])\n",
    "print(thisdict.get(\"model\"))"
   ]
  },
  {
   "cell_type": "code",
   "execution_count": 124,
   "id": "6e49c7b4",
   "metadata": {},
   "outputs": [
    {
     "name": "stdout",
     "output_type": "stream",
     "text": [
      "dict_keys(['brand', 'model', 'year'])\n"
     ]
    }
   ],
   "source": [
    "print(thisdict.keys())    # returns a list containing the thisdict's keys"
   ]
  },
  {
   "cell_type": "code",
   "execution_count": 125,
   "id": "960f797f",
   "metadata": {},
   "outputs": [
    {
     "name": "stdout",
     "output_type": "stream",
     "text": [
      "dict_values(['Ford', 'Mustang', 1964])\n"
     ]
    }
   ],
   "source": [
    "# returns a list of all the values in the thisdict\n",
    "print(thisdict.values())"
   ]
  },
  {
   "cell_type": "code",
   "execution_count": 126,
   "id": "01ef7006",
   "metadata": {},
   "outputs": [
    {
     "name": "stdout",
     "output_type": "stream",
     "text": [
      "dict_items([('brand', 'Ford'), ('model', 'Mustang'), ('year', 1964)])\n"
     ]
    }
   ],
   "source": [
    "# returns a list containing a tuple\n",
    "# for each key value pair in dictionary thisdict\n",
    "print(thisdict.items())"
   ]
  },
  {
   "cell_type": "code",
   "execution_count": 127,
   "id": "23a17afb",
   "metadata": {},
   "outputs": [
    {
     "name": "stdout",
     "output_type": "stream",
     "text": [
      "{'model': 'Mustang', 'year': 1964}\n"
     ]
    }
   ],
   "source": [
    "# removes the element with the key \"brand\" in the thisdict\n",
    "thisdict.pop(\"brand\")\n",
    "\n",
    "print(thisdict)"
   ]
  },
  {
   "cell_type": "code",
   "execution_count": 128,
   "id": "376fbf9a",
   "metadata": {},
   "outputs": [
    {
     "name": "stdout",
     "output_type": "stream",
     "text": [
      "{'model': 'Mustang'}\n"
     ]
    }
   ],
   "source": [
    "# removes the last inserted key-value pair in the thisdict\n",
    "thisdict.popitem()\n",
    "\n",
    "print(thisdict)"
   ]
  },
  {
   "cell_type": "markdown",
   "id": "5c84143d",
   "metadata": {},
   "source": [
    "<div class=\"alert alert-block alert-info\">\n",
    "\n",
    "Similar to lists, tuples and sets, the `del` keyword can delete the dictionary completely or the specified key-value in the dictionary.\n",
    "</div>"
   ]
  },
  {
   "cell_type": "code",
   "execution_count": 129,
   "id": "9a38971e",
   "metadata": {},
   "outputs": [
    {
     "name": "stdout",
     "output_type": "stream",
     "text": [
      "{}\n"
     ]
    }
   ],
   "source": [
    "del thisdict[\"model\"]\n",
    "\n",
    "print(thisdict)"
   ]
  },
  {
   "cell_type": "code",
   "execution_count": 130,
   "id": "6b3779b5",
   "metadata": {},
   "outputs": [
    {
     "ename": "NameError",
     "evalue": "name 'thisdict' is not defined",
     "output_type": "error",
     "traceback": [
      "\u001b[1;31m---------------------------------------------------------------------------\u001b[0m",
      "\u001b[1;31mNameError\u001b[0m                                 Traceback (most recent call last)",
      "\u001b[1;32mc:\\Users\\AliBa\\Desktop\\automate the boring stuff\\Python Tutorial.ipynb Cell 211\u001b[0m line \u001b[0;36m3\n\u001b[0;32m      <a href='vscode-notebook-cell:/c%3A/Users/AliBa/Desktop/automate%20the%20boring%20stuff/Python%20Tutorial.ipynb#Y420sZmlsZQ%3D%3D?line=0'>1</a>\u001b[0m \u001b[39mdel\u001b[39;00m thisdict\n\u001b[1;32m----> <a href='vscode-notebook-cell:/c%3A/Users/AliBa/Desktop/automate%20the%20boring%20stuff/Python%20Tutorial.ipynb#Y420sZmlsZQ%3D%3D?line=2'>3</a>\u001b[0m \u001b[39mprint\u001b[39m(thisdict)\n",
      "\u001b[1;31mNameError\u001b[0m: name 'thisdict' is not defined"
     ]
    }
   ],
   "source": [
    "del thisdict\n",
    "\n",
    "print(thisdict)"
   ]
  },
  {
   "cell_type": "code",
   "execution_count": 131,
   "id": "761cee49",
   "metadata": {},
   "outputs": [
    {
     "name": "stdout",
     "output_type": "stream",
     "text": [
      "{}\n"
     ]
    }
   ],
   "source": [
    "thisdict = {\"brand\":\"Ford\", \"model\":\"Mustang\", \"year\":1964}\n",
    "\n",
    "thisdict.clear()    # removes all the elements from the dictionary thisdict\n",
    "\n",
    "print(thisdict)"
   ]
  },
  {
   "cell_type": "markdown",
   "id": "f8cd9c15",
   "metadata": {},
   "source": [
    "# Conditional Commands <a class=\"anchor\" id=\"Conditional_Commands\"></a> [&#11014;](#Table_of_Contents)"
   ]
  },
  {
   "cell_type": "code",
   "execution_count": 132,
   "id": "8a6eb617",
   "metadata": {},
   "outputs": [
    {
     "name": "stdout",
     "output_type": "stream",
     "text": [
      "b is greater than a\n"
     ]
    }
   ],
   "source": [
    "a = 33\n",
    "b = 200\n",
    "\n",
    "if b > a:\n",
    "    print(\"b is greater than a\")\n",
    "\n",
    "# short hand if\n",
    "#if b > a: print(\"b is greater than a\")"
   ]
  },
  {
   "cell_type": "markdown",
   "id": "529b32b2",
   "metadata": {},
   "source": [
    "<div class=\"alert alert-block alert-info\">\n",
    "\n",
    "Python relies on indentation (whitespace at the begining of a line) to define scope in the code. A statement, without indentation, will raise error.\n",
    "</div>"
   ]
  },
  {
   "cell_type": "code",
   "execution_count": 133,
   "id": "cfd789c5",
   "metadata": {},
   "outputs": [
    {
     "ename": "IndentationError",
     "evalue": "expected an indented block after 'if' statement on line 4 (170397834.py, line 5)",
     "output_type": "error",
     "traceback": [
      "\u001b[1;36m  Cell \u001b[1;32mIn[133], line 5\u001b[1;36m\u001b[0m\n\u001b[1;33m    print(\"b is greater than a\")\u001b[0m\n\u001b[1;37m    ^\u001b[0m\n\u001b[1;31mIndentationError\u001b[0m\u001b[1;31m:\u001b[0m expected an indented block after 'if' statement on line 4\n"
     ]
    }
   ],
   "source": [
    "a = 33\n",
    "b = 200\n",
    "\n",
    "if b > a:\n",
    "print(\"b is greater than a\")"
   ]
  },
  {
   "cell_type": "code",
   "execution_count": 134,
   "id": "9b1e7bd0",
   "metadata": {},
   "outputs": [
    {
     "name": "stdout",
     "output_type": "stream",
     "text": [
      "a and b are equal\n"
     ]
    }
   ],
   "source": [
    "a = 33\n",
    "b = 33\n",
    "\n",
    "if b > a:\n",
    "    print(\"b is greater than a\")\n",
    "elif a == b:\n",
    "    print(\"a and b are equal\")"
   ]
  },
  {
   "cell_type": "code",
   "execution_count": 135,
   "id": "65ab67be",
   "metadata": {},
   "outputs": [
    {
     "name": "stdout",
     "output_type": "stream",
     "text": [
      "a is greater than b\n",
      "133\n"
     ]
    }
   ],
   "source": [
    "a = 200\n",
    "b = 33\n",
    "\n",
    "if b > a:\n",
    "    print(\"b is greater than a\")\n",
    "elif a == b:\n",
    "    print(\"a and b are equal\")\n",
    "else:\n",
    "    print(\"a is greater than b\")\n",
    "    b += 100\n",
    "    print(b)"
   ]
  },
  {
   "cell_type": "code",
   "execution_count": 136,
   "id": "3b8c9239",
   "metadata": {},
   "outputs": [
    {
     "name": "stdout",
     "output_type": "stream",
     "text": [
      "a is greater than b\n"
     ]
    }
   ],
   "source": [
    "a = 200\n",
    "b = 33\n",
    "\n",
    "if b > a:\n",
    "    print(\"b is greater than a\")\n",
    "else:\n",
    "    print(\"a is greater than b\")\n",
    "    \n",
    "# short hand if else\n",
    "#print(\"b is greater than a\") if b > a else print(\"a is greater than b\")"
   ]
  },
  {
   "cell_type": "markdown",
   "id": "3c6370e4",
   "metadata": {},
   "source": [
    "# Loops <a class=\"anchor\" id=\"Loops\"></a> [&#11014;](#Table_of_Contents)"
   ]
  },
  {
   "cell_type": "markdown",
   "id": "e59f5267",
   "metadata": {},
   "source": [
    "## While Loop <a class=\"anchor\" id=\"While_Loop\"></a> [&#11014;](#Table_of_Contents)"
   ]
  },
  {
   "cell_type": "code",
   "execution_count": 137,
   "id": "64da6d58",
   "metadata": {},
   "outputs": [
    {
     "name": "stdout",
     "output_type": "stream",
     "text": [
      "1\n",
      "2\n",
      "3\n",
      "4\n",
      "5\n"
     ]
    }
   ],
   "source": [
    "i = 1\n",
    "while i < 6:\n",
    "    print(i)\n",
    "    i += 1"
   ]
  },
  {
   "cell_type": "markdown",
   "id": "e069566f",
   "metadata": {},
   "source": [
    "I commented the next cell, because if it is executed and a large number of outputs are produced, the file size will increase greatly. After downloading the code, you can uncomment this cell and try it to get familiar with the infinite loop."
   ]
  },
  {
   "cell_type": "code",
   "execution_count": 138,
   "id": "7009dcbd",
   "metadata": {},
   "outputs": [],
   "source": [
    "# # infinite loop\n",
    "# Flag = True\n",
    "# while Flag:\n",
    "#     print(1)"
   ]
  },
  {
   "cell_type": "code",
   "execution_count": 139,
   "id": "0f4caf06",
   "metadata": {},
   "outputs": [
    {
     "name": "stdout",
     "output_type": "stream",
     "text": [
      "1\n",
      "2\n",
      "3\n"
     ]
    }
   ],
   "source": [
    "i = 1\n",
    "while i < 6:\n",
    "    print(i)\n",
    "    if i == 3:\n",
    "        break\n",
    "    i += 1"
   ]
  },
  {
   "cell_type": "code",
   "execution_count": 140,
   "id": "f5120a4c",
   "metadata": {},
   "outputs": [
    {
     "name": "stdout",
     "output_type": "stream",
     "text": [
      "1\n",
      "2\n",
      "3\n",
      "5\n",
      "6\n"
     ]
    }
   ],
   "source": [
    "i = 0\n",
    "while i < 6:\n",
    "    i += 1\n",
    "    if i == 4:\n",
    "        continue\n",
    "    print(i)"
   ]
  },
  {
   "cell_type": "code",
   "execution_count": 141,
   "id": "6d259d4c",
   "metadata": {},
   "outputs": [
    {
     "name": "stdout",
     "output_type": "stream",
     "text": [
      "1\n",
      "2\n",
      "3\n",
      "4\n",
      "5\n",
      "i is no longer less than 6\n"
     ]
    }
   ],
   "source": [
    "i = 1\n",
    "while i < 6:\n",
    "    print(i)\n",
    "    i += 1\n",
    "else:\n",
    "    print(\"i is no longer less than 6\")"
   ]
  },
  {
   "cell_type": "markdown",
   "id": "8f755e59",
   "metadata": {},
   "source": [
    "## For Loop <a class=\"anchor\" id=\"For_Loop\"></a> [&#11014;](#Table_of_Contents)"
   ]
  },
  {
   "cell_type": "code",
   "execution_count": 142,
   "id": "246c10a1",
   "metadata": {},
   "outputs": [
    {
     "name": "stdout",
     "output_type": "stream",
     "text": [
      "0\n",
      "1\n",
      "2\n",
      "3\n",
      "4\n",
      "5\n",
      "6\n",
      "7\n",
      "8\n",
      "9\n"
     ]
    }
   ],
   "source": [
    "for number in range(10):\n",
    "    print(number)"
   ]
  },
  {
   "cell_type": "code",
   "execution_count": 143,
   "id": "6af790e6",
   "metadata": {},
   "outputs": [
    {
     "name": "stdout",
     "output_type": "stream",
     "text": [
      "3\n",
      "4\n",
      "5\n",
      "6\n",
      "7\n",
      "8\n",
      "9\n"
     ]
    }
   ],
   "source": [
    "for number in range(3, 10):\n",
    "    print(number)"
   ]
  },
  {
   "cell_type": "code",
   "execution_count": 144,
   "id": "9925ac7f",
   "metadata": {},
   "outputs": [
    {
     "name": "stdout",
     "output_type": "stream",
     "text": [
      "3\n",
      "5\n",
      "7\n",
      "9\n"
     ]
    }
   ],
   "source": [
    "for number in range(3, 10, 2):\n",
    "    print(number)"
   ]
  },
  {
   "cell_type": "code",
   "execution_count": 145,
   "id": "41f6416c",
   "metadata": {},
   "outputs": [
    {
     "name": "stdout",
     "output_type": "stream",
     "text": [
      "Ali\n",
      "Mohammad\n",
      "Reza\n"
     ]
    }
   ],
   "source": [
    "List = [\"Ali\", \"Mohammad\", \"Reza\"]\n",
    "\n",
    "for name in List:\n",
    "    print(name)"
   ]
  },
  {
   "cell_type": "code",
   "execution_count": 146,
   "id": "52aecf33",
   "metadata": {},
   "outputs": [
    {
     "name": "stdout",
     "output_type": "stream",
     "text": [
      "M\n",
      "o\n",
      "h\n",
      "a\n",
      "m\n",
      "m\n",
      "a\n",
      "d\n"
     ]
    }
   ],
   "source": [
    "for character in \"Mohammad\":\n",
    "    print(character)"
   ]
  },
  {
   "cell_type": "markdown",
   "id": "100ad4b1",
   "metadata": {},
   "source": [
    "# Functions <a class=\"anchor\" id=\"Functions\"></a> [&#11014;](#Table_of_Contents)"
   ]
  },
  {
   "cell_type": "markdown",
   "id": "d067d098",
   "metadata": {},
   "source": [
    "A function is a block of code which only runs when it is called.\n",
    "\n",
    "You can pass data, known as parameters, into a function."
   ]
  },
  {
   "cell_type": "markdown",
   "id": "61106a8d",
   "metadata": {},
   "source": [
    "## Creating a Function <a class=\"anchor\" id=\"Creating_a_Functions\"></a> [&#11014;](#Table_of_Contents)"
   ]
  },
  {
   "cell_type": "code",
   "execution_count": 147,
   "id": "f7ac4539",
   "metadata": {},
   "outputs": [],
   "source": [
    "def my_function():\n",
    "    print(\"Hello from a function\")"
   ]
  },
  {
   "cell_type": "code",
   "execution_count": 148,
   "id": "408faf06",
   "metadata": {},
   "outputs": [
    {
     "name": "stdout",
     "output_type": "stream",
     "text": [
      "Hello from a function\n"
     ]
    }
   ],
   "source": [
    "my_function()"
   ]
  },
  {
   "cell_type": "markdown",
   "id": "5157b788",
   "metadata": {},
   "source": [
    "## Function Arguments <a class=\"anchor\" id=\"Function_Arguments\"></a> [&#11014;](#Table_of_Contents)"
   ]
  },
  {
   "cell_type": "markdown",
   "id": "3d3c4702",
   "metadata": {},
   "source": [
    "Information can be passed into functions as arguments.\n",
    "\n",
    "Arguments are specified after the function name, inside the parentheses. You can add as many arguments as you want, just separate them with a comma."
   ]
  },
  {
   "cell_type": "code",
   "execution_count": 149,
   "id": "3c4f1d3a",
   "metadata": {},
   "outputs": [],
   "source": [
    "def my_function(fname):\n",
    "    print(fname + \" Bagheri\")"
   ]
  },
  {
   "cell_type": "code",
   "execution_count": 150,
   "id": "090216b0",
   "metadata": {},
   "outputs": [
    {
     "name": "stdout",
     "output_type": "stream",
     "text": [
      "Ali Bagheri\n",
      "Mohammad Bagheri\n"
     ]
    }
   ],
   "source": [
    "my_function(\"Ali\")\n",
    "\n",
    "my_function(\"Mohammad\")"
   ]
  },
  {
   "cell_type": "markdown",
   "id": "a8589982",
   "metadata": {},
   "source": [
    "You can send any data types of argument to a function (string, number, list, dictionary etc.), and it will be treated as the same data type inside the function.\n",
    "\n",
    "E.g. if you send a List as an argument, it will still be a List when it reaches the function:"
   ]
  },
  {
   "cell_type": "code",
   "execution_count": 151,
   "id": "52f64ca1",
   "metadata": {},
   "outputs": [],
   "source": [
    "def my_function(food):\n",
    "    for x in food:\n",
    "        print(x)"
   ]
  },
  {
   "cell_type": "code",
   "execution_count": 152,
   "id": "ffe7c495",
   "metadata": {},
   "outputs": [
    {
     "name": "stdout",
     "output_type": "stream",
     "text": [
      "apple\n",
      "banana\n",
      "cherry\n"
     ]
    }
   ],
   "source": [
    "fruits = [\"apple\", \"banana\", \"cherry\"]\n",
    "\n",
    "my_function(fruits)"
   ]
  },
  {
   "cell_type": "markdown",
   "id": "c692ae00",
   "metadata": {},
   "source": [
    "<div class=\"alert alert-block alert-info\">\n",
    "    \n",
    "Arguments are often shortened to args in Python documentations.\n",
    "</div>"
   ]
  },
  {
   "cell_type": "markdown",
   "id": "8b1d7012",
   "metadata": {},
   "source": [
    "### Number of Arguments <a class=\"anchor\" id=\"Number_of_Arguments\"></a> [&#11014;](#Table_of_Contents)"
   ]
  },
  {
   "cell_type": "markdown",
   "id": "c2f31ab6",
   "metadata": {},
   "source": [
    "By default, a function must be called with the correct number of arguments. Meaning that if your function expects $2$ arguments, you have to call the function with $2$ arguments, not more, and not less."
   ]
  },
  {
   "cell_type": "code",
   "execution_count": 153,
   "id": "ca1b42b7",
   "metadata": {},
   "outputs": [],
   "source": [
    "def my_function(fname, lname):\n",
    "    print(fname + \" \" + lname)"
   ]
  },
  {
   "cell_type": "code",
   "execution_count": 154,
   "id": "5c6a57da",
   "metadata": {},
   "outputs": [
    {
     "name": "stdout",
     "output_type": "stream",
     "text": [
      "Ali Bagheri\n"
     ]
    }
   ],
   "source": [
    "my_function(\"Ali\", \"Bagheri\")"
   ]
  },
  {
   "cell_type": "markdown",
   "id": "0fcce555",
   "metadata": {},
   "source": [
    "### Arbitrary Arguments, *args <a class=\"anchor\" id=\"Arbitrary_Arguments\"></a> [&#11014;](#Table_of_Contents)"
   ]
  },
  {
   "cell_type": "markdown",
   "id": "4d95ec8d",
   "metadata": {},
   "source": [
    "If you do not know how many arguments that will be passed into your function, add a `*` before the parameter name in the function definition.\n",
    "\n",
    "This way the function will receive a tuple of arguments, and can access the items accordingly:"
   ]
  },
  {
   "cell_type": "code",
   "execution_count": 155,
   "id": "4a66109e",
   "metadata": {},
   "outputs": [],
   "source": [
    "def my_function(*kids):\n",
    "    print(\"The youngest child is \" + kids[2])"
   ]
  },
  {
   "cell_type": "code",
   "execution_count": 156,
   "id": "2ddb5f66",
   "metadata": {},
   "outputs": [
    {
     "name": "stdout",
     "output_type": "stream",
     "text": [
      "The youngest child is Fateme\n"
     ]
    }
   ],
   "source": [
    "my_function(\"Ali\", \"Mohammad\", \"Fateme\")"
   ]
  },
  {
   "cell_type": "markdown",
   "id": "68a9196e",
   "metadata": {},
   "source": [
    "### Keyword Arguments <a class=\"anchor\" id=\"Keyword_Arguments\"></a> [&#11014;](#Table_of_Contents)"
   ]
  },
  {
   "cell_type": "markdown",
   "id": "1cfede85",
   "metadata": {},
   "source": [
    "You can also send arguments with the `key = value` syntax."
   ]
  },
  {
   "cell_type": "code",
   "execution_count": 157,
   "id": "6d34229a",
   "metadata": {},
   "outputs": [],
   "source": [
    "def my_function(child3, child2, child1):\n",
    "    print(\"The youngest child is \" + child3)"
   ]
  },
  {
   "cell_type": "code",
   "execution_count": 158,
   "id": "a9c598ea",
   "metadata": {},
   "outputs": [
    {
     "name": "stdout",
     "output_type": "stream",
     "text": [
      "The youngest child is Fateme\n"
     ]
    }
   ],
   "source": [
    "my_function(child1=\"Ali\", child2=\"Mohammad\", child3=\"Fateme\")"
   ]
  },
  {
   "cell_type": "markdown",
   "id": "bb678af9",
   "metadata": {},
   "source": [
    "### Arbitrary Keyword Arguments, **kwargs <a class=\"anchor\" id=\"Arbitrary_Keyword_Arguments\"></a> [&#11014;](#Table_of_Contents)"
   ]
  },
  {
   "cell_type": "markdown",
   "id": "3c47b9dc",
   "metadata": {},
   "source": [
    "If you do not know how many keyword arguments that will be passed into your function, add two asterisk: `**` before the parameter name in the function definition.\n",
    "\n",
    "This way the function will receive a dictionary of arguments, and can access the items accordingly:"
   ]
  },
  {
   "cell_type": "code",
   "execution_count": 159,
   "id": "11f8b791",
   "metadata": {},
   "outputs": [],
   "source": [
    "def my_function(**kid):\n",
    "    print(\"His last name is \" + kid[\"lname\"])"
   ]
  },
  {
   "cell_type": "code",
   "execution_count": 160,
   "id": "41b6d8bb",
   "metadata": {},
   "outputs": [
    {
     "name": "stdout",
     "output_type": "stream",
     "text": [
      "His last name is Bagheri\n"
     ]
    }
   ],
   "source": [
    "my_function(fname=\"Ali\", lname=\"Bagheri\")"
   ]
  },
  {
   "cell_type": "markdown",
   "id": "5579c4d5",
   "metadata": {},
   "source": [
    "### Default Parameter Value <a class=\"anchor\" id=\"Default_Parameter_Value\"></a> [&#11014;](#Table_of_Contents)"
   ]
  },
  {
   "cell_type": "code",
   "execution_count": 161,
   "id": "c000e27c",
   "metadata": {},
   "outputs": [],
   "source": [
    "def my_function(country = \"Norway\"):\n",
    "    print(\"I am from \" + country)"
   ]
  },
  {
   "cell_type": "code",
   "execution_count": 162,
   "id": "2951f786",
   "metadata": {},
   "outputs": [
    {
     "name": "stdout",
     "output_type": "stream",
     "text": [
      "I am from Sweden\n",
      "I am from India\n",
      "I am from Norway\n"
     ]
    }
   ],
   "source": [
    "my_function(\"Sweden\")\n",
    "\n",
    "my_function(\"India\")\n",
    "\n",
    "my_function()"
   ]
  },
  {
   "cell_type": "markdown",
   "id": "cf115553",
   "metadata": {},
   "source": [
    "## Return Values <a class=\"anchor\" id=\"Return_Values\"></a> [&#11014;](#Table_of_Contents)"
   ]
  },
  {
   "cell_type": "markdown",
   "id": "091ac770",
   "metadata": {},
   "source": [
    "To let a function return a value, use the return statement:"
   ]
  },
  {
   "cell_type": "code",
   "execution_count": 163,
   "id": "79cce1ed",
   "metadata": {},
   "outputs": [],
   "source": [
    "def my_function(x):\n",
    "    return 5 * x"
   ]
  },
  {
   "cell_type": "code",
   "execution_count": 164,
   "id": "30bdd6a0",
   "metadata": {},
   "outputs": [],
   "source": [
    "def my_function2(x):\n",
    "    print(5 * x)"
   ]
  },
  {
   "cell_type": "code",
   "execution_count": 165,
   "id": "274d8f05",
   "metadata": {},
   "outputs": [
    {
     "name": "stdout",
     "output_type": "stream",
     "text": [
      "25\n"
     ]
    }
   ],
   "source": [
    "x = my_function(5)\n",
    "\n",
    "print(x)"
   ]
  },
  {
   "cell_type": "code",
   "execution_count": 166,
   "id": "90daadbf",
   "metadata": {},
   "outputs": [
    {
     "name": "stdout",
     "output_type": "stream",
     "text": [
      "25\n",
      "None\n"
     ]
    }
   ],
   "source": [
    "y = my_function2(5)\n",
    "\n",
    "print(y)"
   ]
  },
  {
   "cell_type": "code",
   "execution_count": 167,
   "id": "7fee4d44",
   "metadata": {},
   "outputs": [
    {
     "name": "stdout",
     "output_type": "stream",
     "text": [
      "15\n",
      "25\n"
     ]
    }
   ],
   "source": [
    "print(my_function(3))\n",
    "\n",
    "print(my_function(5))"
   ]
  },
  {
   "cell_type": "code",
   "execution_count": null,
   "id": "8a664fe9",
   "metadata": {},
   "outputs": [],
   "source": []
  }
 ],
 "metadata": {
  "kernelspec": {
   "display_name": "Python 3 (ipykernel)",
   "language": "python",
   "name": "python3"
  },
  "language_info": {
   "codemirror_mode": {
    "name": "ipython",
    "version": 3
   },
   "file_extension": ".py",
   "mimetype": "text/x-python",
   "name": "python",
   "nbconvert_exporter": "python",
   "pygments_lexer": "ipython3",
   "version": "3.11.3"
  }
 },
 "nbformat": 4,
 "nbformat_minor": 5
}
